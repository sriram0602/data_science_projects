{
  "nbformat": 4,
  "nbformat_minor": 0,
  "metadata": {
    "colab": {
      "provenance": []
    },
    "kernelspec": {
      "name": "python3",
      "display_name": "Python 3"
    },
    "language_info": {
      "name": "python"
    }
  },
  "cells": [
    {
      "cell_type": "markdown",
      "source": [
        "1.What is the role of the 'else' block in a try-except statement? Provide an example\n",
        "scenario where it would be useful."
      ],
      "metadata": {
        "id": "8aF8hbu3hoJF"
      }
    },
    {
      "cell_type": "code",
      "execution_count": 1,
      "metadata": {
        "colab": {
          "base_uri": "https://localhost:8080/"
        },
        "id": "jog6VEYIhPde",
        "outputId": "205bd8ea-cf31-41ae-ee8c-fe91ef85f742"
      },
      "outputs": [
        {
          "output_type": "stream",
          "name": "stdout",
          "text": [
            "Division result: 5.0\n",
            "Division completed successfully.\n"
          ]
        }
      ],
      "source": [
        "'''\n",
        "The else block in a try-except statement is optional and serves as an additional block that can be used along with the try and except blocks.\n",
        "The else block is executed only if no exception occurs in the try block. It is used to specify code that should run when the try block completes successfully\n",
        "without any exceptions being raised.\n",
        "'''\n",
        "def divide_numbers(a, b):\n",
        "    try:\n",
        "        result = a / b\n",
        "        print(\"Division result:\", result)\n",
        "    except ZeroDivisionError:\n",
        "        print(\"Error: Cannot divide by zero.\")\n",
        "    except TypeError:\n",
        "        print(\"Error: Invalid data types for division.\")\n",
        "    else:\n",
        "        print(\"Division completed successfully.\")\n",
        "divide_numbers(10,2)"
      ]
    },
    {
      "cell_type": "markdown",
      "source": [
        "2.Can a try-except block be nested inside another try-except block? Explain with an example"
      ],
      "metadata": {
        "id": "dNpbvLmWh_yD"
      }
    },
    {
      "cell_type": "code",
      "source": [
        "# try except can be nested within another try-except block\n",
        "def divide_numbers(a, b):\n",
        "    try:# inner try except block\n",
        "        result = a / b\n",
        "        print(\"Division result:\", result)\n",
        "    except ZeroDivisionError:\n",
        "        print(\"Error: Cannot divide by zero.\")\n",
        "    except TypeError:\n",
        "        print(\"Error: Invalid data types for division.\")\n",
        "    except Exception as e:\n",
        "        print(\"An error occurred during division:\", e)\n",
        "\n",
        "try:# outer try-except block\n",
        "  divide_numbers(10, 4)\n",
        "except ValueError:\n",
        "    print(\"Error: Invalid input. Please enter valid numbers.\")"
      ],
      "metadata": {
        "colab": {
          "base_uri": "https://localhost:8080/"
        },
        "id": "vY3bLhZBhmRD",
        "outputId": "c4309419-d46f-4b45-9797-f5d76ec2436d"
      },
      "execution_count": 2,
      "outputs": [
        {
          "output_type": "stream",
          "name": "stdout",
          "text": [
            "Division result: 2.5\n"
          ]
        }
      ]
    },
    {
      "cell_type": "markdown",
      "source": [
        "3.How can you create a custom exception class in Python? Provide an example that\n",
        "demonstrates its usage."
      ],
      "metadata": {
        "id": "qTwutV6zjGmg"
      }
    },
    {
      "cell_type": "code",
      "source": [
        "class CustomError(Exception): #creating a custom error\n",
        "    def __init__(self, message):\n",
        "        super().__init__(message)\n",
        "        self.message = message\n",
        "\n",
        "    def __str__(self):\n",
        "        return f\"CustomError: {self.message}\"\n",
        "\n",
        "def div(a,b):\n",
        "  if b==0:\n",
        "    raise CustomError(\"Division by zero is not allowed.\") # raise customer if b=0\n",
        "\n",
        "try:\n",
        "  div(10,0)\n",
        "except CustomError as e:# handles the the custom error\n",
        "  print(e)"
      ],
      "metadata": {
        "colab": {
          "base_uri": "https://localhost:8080/"
        },
        "id": "yn0Hn8wRjF1i",
        "outputId": "ea9430d3-91af-4890-fc83-c1068941cec4"
      },
      "execution_count": 4,
      "outputs": [
        {
          "output_type": "stream",
          "name": "stdout",
          "text": [
            "CustomError: Division by zero is not allowed.\n"
          ]
        }
      ]
    },
    {
      "cell_type": "markdown",
      "source": [
        "4.What are some common exceptions that are built-in to Python?"
      ],
      "metadata": {
        "id": "RtAGX0D-kCBB"
      }
    },
    {
      "cell_type": "code",
      "source": [
        "'''\n",
        "a. EOFError\n",
        "b. FloatingPointError\n",
        "c. IndexError\n",
        "d. MemoryError\n",
        "e. OverflowError\n",
        "f. TabError\n",
        "g. ValueError\n",
        "'''"
      ],
      "metadata": {
        "id": "g1QXl5dNj11k"
      },
      "execution_count": null,
      "outputs": []
    },
    {
      "cell_type": "markdown",
      "source": [
        "5.What is logging in Python, and why is it important in software development?"
      ],
      "metadata": {
        "id": "YxyQxDWpkPHk"
      }
    },
    {
      "cell_type": "code",
      "source": [
        "'''\n",
        "Logging in Python is a technique used to record and collect information about the events and activities\n",
        "that occur during the execution of a program. It involves writing messages (log entries) to a file, console,\n",
        "or any other output destination to capture important information such as errors, warnings, debug details, or general status updates\n",
        "'''"
      ],
      "metadata": {
        "id": "Qa_rRwV0kNN0"
      },
      "execution_count": null,
      "outputs": []
    },
    {
      "cell_type": "markdown",
      "source": [
        "6.Explain the purpose of log levels in Python logging and provide examples of when\n",
        "each log level would be appropriate."
      ],
      "metadata": {
        "id": "dbyudKPVlNBg"
      }
    },
    {
      "cell_type": "code",
      "source": [
        "#log levels are used to categorize log messages based on their importance or severity.\n",
        "#DEBUG: Used for very detailed and low-level information, typically only relevant during debugging and development.\n",
        "#INFO: Used to record general information about the program's progress or important events.\n",
        "#WARNING: Used to indicate potential issues or unexpected situations that do not necessarily cause the application to fail but might require attention or investigation.\n",
        "#ERROR: Used to report errors that are critical but do not prevent the program from continuing its execution.\n",
        "#CRITICAL: Used for very severe errors that result in the program's inability to continue running."
      ],
      "metadata": {
        "id": "Hhsv3CS3lBFc"
      },
      "execution_count": 9,
      "outputs": []
    },
    {
      "cell_type": "markdown",
      "source": [
        "7.What are log formatters in Python logging, and how can you customise the log\n",
        "message format using formatters?"
      ],
      "metadata": {
        "id": "Nunknd9Rlvnc"
      }
    },
    {
      "cell_type": "code",
      "source": [
        "'''log formatters are objects responsible for defining the format of log messages that are written to the log output.\n",
        "They determine how the log entries will be presented and what information will be included in each log message'''\n",
        "import logging\n",
        "\n",
        "# Create a custom log formatter\n",
        "formatter = logging.Formatter('%(asctime)s - %(levelname)s - %(message)s', datefmt='%Y-%m-%d %H:%M:%S')\n",
        "\n",
        "# Create a file handler and set the formatter\n",
        "stream_handler = logging.StreamHandler()\n",
        "stream_handler.setFormatter(formatter)\n",
        "\n",
        "# Create a logger and add the file handler\n",
        "logger = logging.getLogger('my_logger')\n",
        "logger.addHandler(stream_handler)\n",
        "logger.setLevel(logging.DEBUG)\n",
        "\n",
        "# Log some messages\n",
        "logger.debug('This is a debug message')\n",
        "logger.info('This is an info message')\n",
        "logger.warning('This is a warning message')\n",
        "logger.error('This is an error message')\n",
        "logger.critical('This is a critical message')\n"
      ],
      "metadata": {
        "colab": {
          "base_uri": "https://localhost:8080/"
        },
        "id": "6p_bjIx3lR7v",
        "outputId": "59a58e89-35d8-4582-d605-2a4b466ef5ed"
      },
      "execution_count": 11,
      "outputs": [
        {
          "output_type": "stream",
          "name": "stderr",
          "text": [
            "2023-08-01 15:02:40 - DEBUG - This is a debug message\n",
            "DEBUG:my_logger:This is a debug message\n",
            "2023-08-01 15:02:40 - INFO - This is an info message\n",
            "INFO:my_logger:This is an info message\n",
            "2023-08-01 15:02:40 - WARNING - This is a warning message\n",
            "WARNING:my_logger:This is a warning message\n",
            "2023-08-01 15:02:40 - ERROR - This is an error message\n",
            "ERROR:my_logger:This is an error message\n",
            "2023-08-01 15:02:40 - CRITICAL - This is a critical message\n",
            "CRITICAL:my_logger:This is a critical message\n"
          ]
        }
      ]
    },
    {
      "cell_type": "markdown",
      "source": [
        "8. How can you set up logging to capture log messages from multiple modules or\n",
        "classes in a Python application?"
      ],
      "metadata": {
        "id": "eo6rg5Krm7rg"
      }
    },
    {
      "cell_type": "code",
      "source": [
        "'''\n",
        "To capture log messages from multiple modules or classes in a Python application, we can set up logging with a shared logger instance and\n",
        "configure it to handle log messages from all the desired modules or classes.\n",
        "This shared logger can be accessed from different parts of the application to ensure consistency in log handling.\n",
        "'''\n"
      ],
      "metadata": {
        "id": "fLfWKuC-m2CK"
      },
      "execution_count": null,
      "outputs": []
    },
    {
      "cell_type": "markdown",
      "source": [
        "9. What is the difference between the logging and print statements in Python? When\n",
        "should you use logging over print statements in a real-world application?"
      ],
      "metadata": {
        "id": "QNu0vojOpa2E"
      }
    },
    {
      "cell_type": "code",
      "source": [
        "'''\n",
        "The print statement is primarily used for simple, temporary output during development and debugging.\n",
        "It is useful for printing values, debugging information, and intermediate results to the console.\n",
        "\n",
        "The logging module is specifically designed for structured and configurable logging in both development and production environments.\n",
        "It provides various log levels, log formatting options, multiple output destinations (handlers), and the ability to control logging behavior programmatically.\n",
        "'''\n",
        "\n",
        "#logging can be used over print statements in a real-world application for several reason\n",
        "#Structured Logging\n",
        "#Flexibility\n",
        "#Debugging and Monitoring\n",
        "#\n",
        "\n"
      ],
      "metadata": {
        "id": "k3_i2gFKpZkI"
      },
      "execution_count": null,
      "outputs": []
    },
    {
      "cell_type": "markdown",
      "source": [
        "10. Write a Python program that logs a message to a file named \"app.log\" with the\n",
        "following requirements:\n",
        "● The log message should be \"Hello, World!\"\n",
        "● The log level should be set to \"INFO.\"\n",
        "● The log file should append new log entries without overwriting previous ones."
      ],
      "metadata": {
        "id": "hijxXwBptLlL"
      }
    },
    {
      "cell_type": "code",
      "source": [
        "import logging\n",
        "\n",
        "# Create a custom log formatter\n",
        "formatter = logging.Formatter('%(asctime)s - %(levelname)s - %(message)s', datefmt='%Y-%m-%d %H:%M:%S')\n",
        "\n",
        "# Create a file handler and set the formatter\n",
        "file_handler = logging.FileHandler(\"app.log\", mode=\"a\")\n",
        "file_handler.setFormatter(formatter)\n",
        "\n",
        "# Create a logger and add the file handler\n",
        "logger = logging.getLogger('my_logger')\n",
        "logger.addHandler(file_handler)\n",
        "logger.setLevel(logging.DEBUG)\n",
        "\n",
        "logger.info(\"Hello, World!\")"
      ],
      "metadata": {
        "colab": {
          "base_uri": "https://localhost:8080/"
        },
        "id": "sKx-coQ2swo3",
        "outputId": "0ab5787a-a12c-4a6b-d054-918dc8c5b961"
      },
      "execution_count": 15,
      "outputs": [
        {
          "output_type": "stream",
          "name": "stderr",
          "text": [
            "2023-08-01 15:27:54 - INFO - Hello, World!\n",
            "INFO:my_logger:Hello, World!\n"
          ]
        }
      ]
    },
    {
      "cell_type": "markdown",
      "source": [
        "11.Create a Python program that logs an error message to the console and a file named\n",
        "\"errors.log\" if an exception occurs during the program's execution. The error\n",
        "message should include the exception type and a timestamp."
      ],
      "metadata": {
        "id": "OJ2aRz3-tqI6"
      }
    },
    {
      "cell_type": "code",
      "source": [
        "import logging\n",
        "\n",
        "\n",
        "# Create a custom log formatter\n",
        "formatter = logging.Formatter('%(asctime)s - %(levelname)s - %(message)s', datefmt='%Y-%m-%d %H:%M:%S')\n",
        "\n",
        "# Create a file handler and set the formatter\n",
        "file_handler = logging.FileHandler(\"error.log\", mode=\"a\")\n",
        "file_handler.setFormatter(formatter)\n",
        "\n",
        "# Create a logger and add the file handler\n",
        "logger = logging.getLogger('my_logger')\n",
        "logger.addHandler(file_handler)\n",
        "logger.setLevel(logging.DEBUG)\n",
        "\n",
        "\n",
        "try:\n",
        "  lst=[1,2,3,4]\n",
        "  c=lst[5]\n",
        "except IndexError as e:\n",
        "  logger.error(f\"Exception occurred: {type(e).__name__} \")\n",
        "\n",
        "#logger.info(\"Hello, World!\")\n"
      ],
      "metadata": {
        "colab": {
          "base_uri": "https://localhost:8080/"
        },
        "id": "vl3YR2GMtnuh",
        "outputId": "1c4492f4-d738-4a9e-abbf-9bdcda141437"
      },
      "execution_count": 17,
      "outputs": [
        {
          "output_type": "stream",
          "name": "stderr",
          "text": [
            "2023-08-01 15:33:25 - ERROR - Exception occurred: IndexError \n",
            "ERROR:my_logger:Exception occurred: IndexError \n"
          ]
        }
      ]
    },
    {
      "cell_type": "code",
      "source": [],
      "metadata": {
        "id": "esOlaufxulM7"
      },
      "execution_count": null,
      "outputs": []
    }
  ]
}