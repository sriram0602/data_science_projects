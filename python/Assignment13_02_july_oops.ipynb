{
  "nbformat": 4,
  "nbformat_minor": 0,
  "metadata": {
    "colab": {
      "provenance": []
    },
    "kernelspec": {
      "name": "python3",
      "display_name": "Python 3"
    },
    "language_info": {
      "name": "python"
    }
  },
  "cells": [
    {
      "cell_type": "markdown",
      "source": [
        "1.Explain what inheritance is in object-oriented programming and why it is used.\n"
      ],
      "metadata": {
        "id": "clN10xnT0TS-"
      }
    },
    {
      "cell_type": "code",
      "execution_count": null,
      "metadata": {
        "id": "TUZN-qZ40KIo"
      },
      "outputs": [],
      "source": [
        "#In object-oriented programming (OOP), inheritance is a mechanism that allows a class to inherit properties and behaviors from another class.\n",
        "#Code reuse: Inheritance allows us to reuse the code that has already been written for the base class in the subclass.\n",
        "#Abstraction: Inheritance allows us to abstract away the details of the base class from the subclass\n",
        "#Polymorphism: Inheritance allows us to have different subclasses that behave in different ways, even though they share the same structure."
      ]
    },
    {
      "cell_type": "markdown",
      "source": [
        "2.Discuss the concept of single inheritance and multiple inheritance, highlighting their\n",
        "differences and advantages."
      ],
      "metadata": {
        "id": "CBAvDC9h033j"
      }
    },
    {
      "cell_type": "code",
      "source": [
        "'''\n",
        "Difference between single inheritance and multiple inheritance\n",
        "\n",
        "1) In single inheritance a class can only inherit from one superclass,but in multiple inheritance a class can inherit from more than one superclass.\n",
        "2)Single inheritance is less flexible than multiple inheritance.\n",
        "3)Single inheritance is less complex than multiple inheritance.\n",
        "\n",
        "Advantages of single inheritance\n",
        "\n",
        "It is easier to understand and reason about than multiple inheritance.\n",
        "It is less prone to errors.\n",
        "It is easier to implement and debug.\n",
        "\n",
        "Advantages of multiple inheritance\n",
        "\n",
        "It is more flexible than single inheritance.\n",
        "It allows us to create more complex and specialized classes.\n",
        "It can be used to implement polymorphism more easily.\n",
        "'''"
      ],
      "metadata": {
        "id": "gaMRwe4b0XFu"
      },
      "execution_count": null,
      "outputs": []
    },
    {
      "cell_type": "markdown",
      "source": [
        "3.Explain the terms \"base class\" and \"derived class\" in the context of inheritance."
      ],
      "metadata": {
        "id": "Tc5rzNbH2GpG"
      }
    },
    {
      "cell_type": "code",
      "source": [
        "'''\n",
        "\n",
        "In inheritance the base class is the parent class from which the derived class is created,\n",
        "this means the derived class will have the properties of parent class which is the base class.\n",
        "\n",
        "'''"
      ],
      "metadata": {
        "id": "D0DOs-Xk2E-K"
      },
      "execution_count": null,
      "outputs": []
    },
    {
      "cell_type": "markdown",
      "source": [
        "4.What is the significance of the \"protected\" access modifier in inheritance? How does\n",
        "it differ from \"private\" and \"public\" modifiers?"
      ],
      "metadata": {
        "id": "7zOrZWdI2l6a"
      }
    },
    {
      "cell_type": "code",
      "source": [
        "'''\n",
        "The protected access modifier makes a member of a class only accessible to derived classes whereas\n",
        "The private access modifier  makes a member of a class completely inaccessible to other classes.\n",
        "and The public access modifier makes a member of a class accessible to all classes.\n",
        "'''"
      ],
      "metadata": {
        "id": "_Y6TA0gz2krO"
      },
      "execution_count": null,
      "outputs": []
    },
    {
      "cell_type": "markdown",
      "source": [
        "5.What is the purpose of the \"super\" keyword in inheritance? Provide an example."
      ],
      "metadata": {
        "id": "XxmNYK693ZyT"
      }
    },
    {
      "cell_type": "code",
      "source": [
        "\"\"\"\n",
        "\n",
        "The super keyword in inheritance is used to refer to the parent class of the current class.\n",
        "It can be used to access the parent class's members, such as its methods, properties, and constructors.\n",
        "\n",
        "\"\"\"\n",
        "class Vehicle:\n",
        "    def count_wheel(self):\n",
        "        print(\"I have wheels \")\n",
        "\n",
        "class Car(Vehicle):\n",
        "    def count_wheel(self):\n",
        "        super().count_wheel()\n",
        "        print(\"I have four wheels\")\n",
        "\n",
        "car = Car()\n",
        "car.count_wheel()"
      ],
      "metadata": {
        "colab": {
          "base_uri": "https://localhost:8080/"
        },
        "id": "rksvhsvP3YuU",
        "outputId": "d77fe1a8-d729-4792-eeb4-18576f028ce4"
      },
      "execution_count": null,
      "outputs": [
        {
          "output_type": "stream",
          "name": "stdout",
          "text": [
            "I have wheels \n",
            "I have four wheels\n"
          ]
        }
      ]
    },
    {
      "cell_type": "markdown",
      "source": [
        "6.Create a base class called \"Vehicle\" with attributes like \"make\", \"model\", and \"year\".\n",
        "Then, create a derived class called \"Car\" that inherits from \"Vehicle\" and adds an\n",
        "attribute called \"fuel_type\". Implement appropriate methods in both classes."
      ],
      "metadata": {
        "id": "QQQVMdXe4NHS"
      }
    },
    {
      "cell_type": "code",
      "source": [
        "class Vehicle:\n",
        "    def __init__(self, make, model, year):\n",
        "        self.make = make\n",
        "        self.model = model\n",
        "        self.year = year\n",
        "    def display(self):\n",
        "      print(f\"The make is {self.make}\")\n",
        "      print(f\"The model is {self.model}\")\n",
        "      print(f\"The year is {self.year}\")\n",
        "\n",
        "class Car(Vehicle):\n",
        "    def __init__(self, make, model, year, fuel_type):\n",
        "        super().__init__(make, model, year)\n",
        "        self.fuel_type = fuel_type\n",
        "\n",
        "    def display(self):\n",
        "      super().display()\n",
        "      print(f\"The fuel type is {self.fuel_type}\")\n",
        "\n",
        "car = Car(\"Tata\", \"altroz\", 2023, \"EV\")\n",
        "car.display()"
      ],
      "metadata": {
        "colab": {
          "base_uri": "https://localhost:8080/"
        },
        "id": "fn6rEIP24FHU",
        "outputId": "f84b618c-22e1-4759-b238-60e12eb428df"
      },
      "execution_count": null,
      "outputs": [
        {
          "output_type": "stream",
          "name": "stdout",
          "text": [
            "The make is Tata\n",
            "The model is altroz\n",
            "The year is 2023\n",
            "The fuel type is EV\n"
          ]
        }
      ]
    },
    {
      "cell_type": "markdown",
      "source": [
        "7.Create a base class called \"Employee\" with attributes like \"name\" and \"salary.\"\n",
        "Derive two classes, \"Manager\" and \"Developer,\" from \"Employee.\" Add an additional\n",
        "attribute called \"department\" for the \"Manager\" class and \"programming_language\"\n",
        "for the \"Developer\" class."
      ],
      "metadata": {
        "id": "RSmVm_uy5WLg"
      }
    },
    {
      "cell_type": "code",
      "source": [
        "class Employee:\n",
        "    def __init__(self, name, salary):\n",
        "      self.name = name\n",
        "      self.salary = salary\n",
        "    def display_info(self):\n",
        "      print(f\"Name  : {self.name}\")\n",
        "      print(f\"salary: {self.salary}\")\n",
        "\n",
        "\n",
        "class Manager(Employee):\n",
        "    def __init__(self, name, salary, department):\n",
        "      super().__init__(name, salary)\n",
        "      self.department = department\n",
        "    def display_info(self):\n",
        "      super().display_info()\n",
        "      print(f\"department : {self.department}\")\n",
        "\n",
        "class Developer(Employee):\n",
        "    def __init__(self, name, salary, programming_language):\n",
        "      super().__init__(name, salary)\n",
        "      self.programming_language = programming_language\n",
        "    def display_info(self):\n",
        "      super().display_info()\n",
        "      print(f\"programming_language : {self.programming_language}\")\n",
        "\n",
        "print(\"----------manager details---------\")\n",
        "manager_obj=Manager(\"ravi\",\"500000\",\"Data science\")\n",
        "manager_obj.display_info()\n",
        "print(\"----------Developer detals---------\")\n",
        "developer_obj=Developer(\"sriram\",\"100000\",\"python\")\n",
        "developer_obj.display_info()\n",
        "print(\"-----------------------------------\")\n"
      ],
      "metadata": {
        "colab": {
          "base_uri": "https://localhost:8080/"
        },
        "id": "I6azwFMb5UI8",
        "outputId": "24448c37-65b6-41e6-ba72-d891bf2499f2"
      },
      "execution_count": null,
      "outputs": [
        {
          "output_type": "stream",
          "name": "stdout",
          "text": [
            "----------manager details---------\n",
            "Name  : ravi\n",
            "salary: 500000\n",
            "department : Data science\n",
            "----------Developer detals---------\n",
            "Name  : sriram\n",
            "salary: 100000\n",
            "programming_language : python\n",
            "-----------------------------------\n"
          ]
        }
      ]
    },
    {
      "cell_type": "markdown",
      "source": [
        "8.Design a base class called \"Shape\" with attributes like \"colour\" and \"border_width.\"\n",
        "Create derived classes, \"Rectangle\" and \"Circle,\" that inherit from \"Shape\" and add\n",
        "specific attributes like \"length\" and \"width\" for the \"Rectangle\" class and \"radius\" for\n",
        "the \"Circle\" class."
      ],
      "metadata": {
        "id": "nRh9IM8-7CLH"
      }
    },
    {
      "cell_type": "code",
      "source": [
        "class Shape:\n",
        "    def __init__(self, color, border_width):\n",
        "      self.color = color\n",
        "      self.border_width = border_width\n",
        "\n",
        "    def display_shape(self):\n",
        "      print(f\"color  : {self.color}\")\n",
        "      print(f\"border_width  : {self.border_width}\")\n",
        "\n",
        "class Rectangle(Shape):\n",
        "    def __init__(self, color, border_width, length, width):\n",
        "      super().__init__(color, border_width)\n",
        "      self.length = length\n",
        "      self.width = width\n",
        "    def display_shape(self):\n",
        "      super().display_shape()\n",
        "      print(f\"length : {self.length}\")\n",
        "      print(f\"width  : {self.width}\")\n",
        "\n",
        "class Circle(Shape):\n",
        "    def __init__(self, color, border_width, radius):\n",
        "      super().__init__(color, border_width)\n",
        "      self.radius = radius\n",
        "    def display_shape(self):\n",
        "      super().display_shape()\n",
        "      print(f\"radius  : {self.radius}\")\n",
        "\n",
        "print(\"-----Rectangle Details--------\")\n",
        "rect_obj=Rectangle(\"red\",2.5, 10,20)\n",
        "rect_obj.display_shape()\n",
        "print(\"-----Circle Details--------\")\n",
        "circle_obj=Circle(\"blue\",2.5, 10)\n",
        "circle_obj.display_shape()\n",
        "print(\"-----------------------------------\")\n"
      ],
      "metadata": {
        "colab": {
          "base_uri": "https://localhost:8080/"
        },
        "id": "lymXwfgC6574",
        "outputId": "76193887-0b56-4d0d-dea5-6aa60fdc2126"
      },
      "execution_count": null,
      "outputs": [
        {
          "output_type": "stream",
          "name": "stdout",
          "text": [
            "-----Rectangle Details--------\n",
            "color  : red\n",
            "border_width  : 2.5\n",
            "length : 10\n",
            "width  : 20\n",
            "-----Circle Details--------\n",
            "color  : blue\n",
            "border_width  : 2.5\n",
            "radius  : 10\n",
            "-----------------------------------\n"
          ]
        }
      ]
    },
    {
      "cell_type": "markdown",
      "source": [
        "9.Create a base class called \"Device\" with attributes like \"brand\" and \"model.\" Derive\n",
        "two classes, \"Phone\" and \"Tablet,\" from \"Device.\" Add specific attributes like\n",
        "\"screen_size\" for the \"Phone\" class and \"battery_capacity\" for the \"Tablet\" class."
      ],
      "metadata": {
        "id": "eHMSASOA8f1p"
      }
    },
    {
      "cell_type": "code",
      "source": [
        "class Device:\n",
        "  def __init__(self, brand, model):\n",
        "    self.brand = brand\n",
        "    self.model = model\n",
        "  def display_info(self):\n",
        "      print(f\"brand : {self.brand}\")\n",
        "      print(f\"model : {self.model}\")\n",
        "\n",
        "class Phone(Device):\n",
        "  def __init__(self, brand, model, screen_size):\n",
        "    super().__init__(brand, model)\n",
        "    self.screen_size = screen_size\n",
        "  def display_info(self):\n",
        "      super().display_info()\n",
        "      print(f\"screen_size : {self.screen_size}\")\n",
        "\n",
        "class Tablet(Device):\n",
        "  def __init__(self, brand, model, battery_capacity):\n",
        "    super().__init__(brand, model)\n",
        "    self.battery_capacity = battery_capacity\n",
        "  def display_info(self):\n",
        "      super().display_info()\n",
        "      print(f\"battery_capacity : {self.battery_capacity}\")\n",
        "\n",
        "print(\"-----Phone Details--------\")\n",
        "phone_obj=Phone(\"Apple\",\"14\",\"6.1\")\n",
        "phone_obj.display_info()\n",
        "print(\"-----Tablet Details--------\")\n",
        "tablet_obj=Tablet(\"samsung\",\"tab 5\", \"3000mah\")\n",
        "tablet_obj.display_info()\n",
        "print(\"-----------------------------------\")\n"
      ],
      "metadata": {
        "colab": {
          "base_uri": "https://localhost:8080/"
        },
        "id": "Q6lhnShz8Xmk",
        "outputId": "11fd9a57-e446-4a94-b2e6-9eaa02d629da"
      },
      "execution_count": null,
      "outputs": [
        {
          "output_type": "stream",
          "name": "stdout",
          "text": [
            "-----Phone Details--------\n",
            "brand : Apple\n",
            "model : 14\n",
            "screen_size : 6.1\n",
            "-----Tablet Details--------\n",
            "brand : samsung\n",
            "model : tab 5\n",
            "battery_capacity : 3000mah\n",
            "-----------------------------------\n"
          ]
        }
      ]
    },
    {
      "cell_type": "markdown",
      "source": [
        "10.Create a base class called \"BankAccount\" with attributes like \"account_number\" and\n",
        "\"balance.\" Derive two classes, \"SavingsAccount\" and \"CheckingAccount,\" from\n",
        "\"BankAccount.\" Add specific methods like \"calculate_interest\" for the\n",
        "\"SavingsAccount\" class and \"deduct_fees\" for the \"CheckingAccount\" class."
      ],
      "metadata": {
        "id": "LHrzP8Z39lfz"
      }
    },
    {
      "cell_type": "code",
      "source": [
        "class BankAccount:\n",
        "    def __init__(self, account_number, balance):\n",
        "        self.account_number = account_number\n",
        "        self.balance = balance\n",
        "\n",
        "    def display_info(self):\n",
        "      print(f\"account_number : {self.account_number}\")\n",
        "      print(f\"balance : {self.balance}\")\n",
        "\n",
        "class SavingsAccount(BankAccount):\n",
        "    def __init__(self, account_number, balance, interest_rate):\n",
        "        super().__init__(account_number, balance)\n",
        "        self.interest_rate = interest_rate\n",
        "\n",
        "    def calculate_interest(self):\n",
        "        interest = self.balance * (self.interest_rate/100)\n",
        "        self.balance += interest\n",
        "        print(\"The interest has been calculated and added to the balance and current balance is:\")\n",
        "        super().display_info()\n",
        "\n",
        "class CheckingAccount(BankAccount):\n",
        "    def __init__(self, account_number, balance, monthly_fee):\n",
        "        super().__init__(account_number, balance)\n",
        "        self.monthly_fee = monthly_fee\n",
        "\n",
        "    def deduct_fees(self):\n",
        "        self.balance -= self.monthly_fee\n",
        "        print(\"The fees has been deducted from  the balance and current balance is:\")\n",
        "        super().display_info()\n",
        "\n",
        "\n",
        "print(\"--------Savings Account--------\")\n",
        "saving_obj=SavingsAccount(\"12345\",5000,2)\n",
        "saving_obj.calculate_interest()\n",
        "print(\"--------Checking Account--------\")\n",
        "checking_obj=CheckingAccount(\"12345\",5000,250)\n",
        "checking_obj.deduct_fees()\n",
        "print(\"--------------------------------\")\n"
      ],
      "metadata": {
        "colab": {
          "base_uri": "https://localhost:8080/"
        },
        "id": "V2iedbxQ9ijN",
        "outputId": "20c3664c-48a8-4f0c-d024-dff5f68c9cfd"
      },
      "execution_count": null,
      "outputs": [
        {
          "output_type": "stream",
          "name": "stdout",
          "text": [
            "--------Savings Account--------\n",
            "The interest has been calculated and added to the balance and current balance is:\n",
            "account_number : 12345\n",
            "balance : 5100.0\n",
            "--------Checking Account--------\n",
            "The fees has been deducted from  the balance and current balance is:\n",
            "account_number : 12345\n",
            "balance : 4750\n",
            "--------------------------------\n"
          ]
        }
      ]
    },
    {
      "cell_type": "code",
      "source": [],
      "metadata": {
        "id": "yF8J33Sr_g8o"
      },
      "execution_count": null,
      "outputs": []
    }
  ]
}