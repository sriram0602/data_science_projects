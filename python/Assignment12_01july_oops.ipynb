{
  "nbformat": 4,
  "nbformat_minor": 0,
  "metadata": {
    "colab": {
      "provenance": []
    },
    "kernelspec": {
      "name": "python3",
      "display_name": "Python 3"
    },
    "language_info": {
      "name": "python"
    }
  },
  "cells": [
    {
      "cell_type": "markdown",
      "source": [
        "1. What is the primary goal of Object-Oriented Programming (OOP)?"
      ],
      "metadata": {
        "id": "xdHzmQR5-e6e"
      }
    },
    {
      "cell_type": "code",
      "execution_count": null,
      "metadata": {
        "id": "4Odd7BTT-Mza"
      },
      "outputs": [],
      "source": [
        "'''\n",
        "The primary goal of Object-Oriented Programming (OOP) is to organize and model the code based on real-world entities or objects,\n",
        "making it easier to manage, understand, and maintain software systems. OOP revolves around the concept of \"objects,\"\n",
        "which are instances of classes representing real-world entities with their attributes (data) and behaviors (methods).\n",
        "The key goals of OOP are:\n",
        "Modularity\n",
        "Encapsulation\n",
        "Inheritance\n",
        "Polymorphism\n",
        "'''"
      ]
    },
    {
      "cell_type": "markdown",
      "source": [
        "2. What is an object in Python?"
      ],
      "metadata": {
        "id": "HAI55ASq-_yy"
      }
    },
    {
      "cell_type": "code",
      "source": [
        "'''\n",
        "An object is an instance of a class and represents a real-world entity, data, or concept within the code.\n",
        "Each object has its own unique identity, attributes (also known as properties or data members), and methods (functions associated with the object).\n",
        "\n",
        "'''\n",
        "# Defining a class\n",
        "class Car:\n",
        "    def __init__(self, make, model):\n",
        "        self.make = make\n",
        "        self.model = model\n",
        "\n",
        "    def start_engine(self):\n",
        "        return \"Engine started for {} {}\".format(self.make, self.model)\n",
        "\n",
        "# Creating objects (instances) of the class\n",
        "car1 = Car(\"Toyota\", \"Camry\")\n",
        "car2 = Car(\"Tesla\", \"Model S\")\n",
        "\n",
        "# Accessing attributes and calling methods of the objects\n",
        "print(car1.make)               # Output: Toyota\n",
        "print(car2.model)              # Output: Model S\n",
        "print(car1.start_engine())     # Output: Engine started for Toyota Camry\n",
        "print(car2.start_engine())     # Output: Engine started for Tesla Model S\n"
      ],
      "metadata": {
        "colab": {
          "base_uri": "https://localhost:8080/"
        },
        "id": "0dpLfeoB--Kt",
        "outputId": "2239cec8-747e-4941-c49a-8e208b046525"
      },
      "execution_count": null,
      "outputs": [
        {
          "output_type": "stream",
          "name": "stdout",
          "text": [
            "Toyota\n",
            "Model S\n",
            "Engine started for Toyota Camry\n",
            "Engine started for Tesla Model S\n"
          ]
        }
      ]
    },
    {
      "cell_type": "markdown",
      "source": [
        "3.What is a class in Python?"
      ],
      "metadata": {
        "id": "fxw6c1bm_uai"
      }
    },
    {
      "cell_type": "code",
      "source": [
        "'''\n",
        "a class is a blueprint or template for creating objects. It is a fundamental concept of Object-Oriented Programming (OOP).\n",
        "A class defines a new data type, encapsulating both data members (attributes) and methods (functions) that operate on those attributes.\n",
        "It serves as a blueprint from which you can create individual instances (objects) with their own unique data and behavior.\n",
        "'''"
      ],
      "metadata": {
        "id": "aRvfHaX-_f2d"
      },
      "execution_count": null,
      "outputs": []
    },
    {
      "cell_type": "markdown",
      "source": [
        "4.What are attributes and methods in a class?"
      ],
      "metadata": {
        "id": "V25nH8uYAG9E"
      }
    },
    {
      "cell_type": "code",
      "source": [
        "\"\"\"\n",
        "Attributes:\n",
        "\n",
        "Attributes are variables that are associated with a class or an object. They can be used to store data about the class or object,\n",
        "such as its name, age, or weight. Attributes are defined in the class definition,\n",
        "and they can be accessed by using the dot notation.\n",
        "\"\"\"\n",
        "\n",
        "#example\n",
        "class Student:\n",
        "    name = \"John\"\n",
        "\n",
        "\n",
        "student = Student()\n",
        "print(student.name)\n",
        "\n",
        "\n",
        "\"\"\"\n",
        "Methods:\n",
        "\n",
        "Methods are functions that are associated with a class or an object.\n",
        "They can be used to perform actions on the class or object, such as adding, removing, or updating data.\n",
        "Methods are defined in the class definition, and they can be called by using the dot notation.\n",
        "\n",
        "\"\"\"\n",
        "#example\n",
        "\n",
        "class Student:\n",
        "    def display(self):\n",
        "        print(\" The student  name is John\")\n",
        "student = Student()\n",
        "student.display()"
      ],
      "metadata": {
        "id": "L6H9hP77AF12",
        "colab": {
          "base_uri": "https://localhost:8080/"
        },
        "outputId": "d6b436ef-27f5-4b77-99ae-b3bbf69ea19d"
      },
      "execution_count": null,
      "outputs": [
        {
          "output_type": "stream",
          "name": "stdout",
          "text": [
            "John\n",
            " The student  name is John\n"
          ]
        }
      ]
    },
    {
      "cell_type": "markdown",
      "source": [
        "5.What is the difference between class variables and instance variables in Python?"
      ],
      "metadata": {
        "id": "WOobN3DOyTRP"
      }
    },
    {
      "cell_type": "code",
      "source": [
        "\"\"\"\n",
        "Class variables-are shared by all instances of a class.\n",
        "This means that if you change the value of a class variable in one instance, the value will change for all instances of the class.\n",
        "Class variables are defined outside of any methods, and they are prefixed with the class keyword.\n",
        "\"\"\"\n",
        "\n",
        "\n",
        "#example\n",
        "class Person:\n",
        "  name=\"john\" #class variable\n",
        "\n",
        "\n",
        "\"\"\"\n",
        "Instance variables-are unique to each instance of a class.\n",
        "This means that if you change the value of an instance variable in one instance,\n",
        "the value will not change for other instances of the class. Instance variables are defined inside methods,\n",
        "and they are not prefixed with any keyword.\n",
        "\"\"\"\n",
        "\n",
        "#example\n",
        "class Person:\n",
        "  def __init__(self,name):\n",
        "    self.name=\"john\"\n"
      ],
      "metadata": {
        "id": "KQbVKk1XyN8a"
      },
      "execution_count": null,
      "outputs": []
    },
    {
      "cell_type": "markdown",
      "source": [
        "6. What is the purpose of the self parameter in Python class methods?"
      ],
      "metadata": {
        "id": "Fl9y_68Ry1DZ"
      }
    },
    {
      "cell_type": "code",
      "source": [
        "\"\"\"\n",
        "The self parameter in Python class methods is a reference to the current instance of the class.\n",
        "It is used to access the attributes and methods of the class,\n",
        "and it is also used to pass the instance to the method.\n",
        "\n",
        "\n",
        "It makes the code more readable and maintainable.\n",
        "It allows you to access the attributes and methods of the class.\n",
        "It allows you to pass the instance to the method.\n",
        "\n",
        "\"\"\""
      ],
      "metadata": {
        "id": "cym8khPbyzVH"
      },
      "execution_count": null,
      "outputs": []
    },
    {
      "cell_type": "markdown",
      "source": [
        "7.For a library management system, you have to design the \"Book\" class with OOP\n",
        "principles in mind. The “Book” class will have following attributes:\n",
        "\n",
        "a. title: Represents the title of the book.\n",
        "b. author: Represents the author(s) of the book.\n",
        "c. isbn: Represents the ISBN (International Standard Book Number) of the book.\n",
        "d. publication_year: Represents the year of publication of the book.\n",
        "e. available_copies: Represents the number of copies available for checkout.\n",
        "The class will also include the following methods:\n",
        "a. check_out(self): Decrements the available copies by one if there are copies\n",
        "available for checkout.\n",
        "b. return_book(self): Increments the available copies by one when a book is\n",
        "returned.\n",
        "c. display_book_info(self): Displays the information about the book, including its\n",
        "attributes and the number of available copies."
      ],
      "metadata": {
        "id": "MdYHfFJqy9fc"
      }
    },
    {
      "cell_type": "code",
      "source": [
        "class Book:\n",
        "    def __init__(self, title, author, isbn, publication_year, available_copies):\n",
        "        self.title = title\n",
        "        self.author = author\n",
        "        self.isbn = isbn\n",
        "        self.publication_year = publication_year\n",
        "        self.available_copies = available_copies\n",
        "\n",
        "    def check_out(self):\n",
        "        if self.available_copies > 0:\n",
        "          self.available_copies -= 1\n",
        "          print(f\"A copy of '{self.title}' has been checked out.\")\n",
        "        else:\n",
        "          print(f\"No copies available for {self.title}\")\n",
        "\n",
        "    def return_book(self):\n",
        "        self.available_copies += 1\n",
        "        print(f\"A copy of '{self.title}' has been returned. {self.available_copies} copy(s) available.\")\n",
        "\n",
        "    def display_book_info(self):\n",
        "        print(f\"Title: {self.title}\")\n",
        "        print(f\"Author(s): {self.author}\")\n",
        "        print(f\"ISBN: {self.isbn}\")\n",
        "        print(f\"Publication Year: {self.publication_year}\")\n",
        "        print(f\"Available Copies: {self.available_copies}\")\n",
        "\n",
        "# Creating an instance of the Book class\n",
        "book1 = Book(\"Python Data Analysis\", \"Wes McKinney\", \"123456789\", 1998, 10)\n",
        "# Using methods of the Book class\n",
        "book1.check_out()  # This will call check_o|ut method\n",
        "book1.display_book_info()\n",
        "book1.return_book() # This will call return_book method"
      ],
      "metadata": {
        "colab": {
          "base_uri": "https://localhost:8080/"
        },
        "id": "t8cTWjSwy8Fd",
        "outputId": "306ce460-6ee8-4d68-bdf1-6ed1624be39e"
      },
      "execution_count": null,
      "outputs": [
        {
          "output_type": "stream",
          "name": "stdout",
          "text": [
            "A copy of 'Python Data Analysis' has been checked out.\n",
            "Title: Python Data Analysis\n",
            "Author(s): Wes McKinney\n",
            "ISBN: 123456789\n",
            "Publication Year: 1998\n",
            "Available Copies: 9\n",
            "A copy of 'Python Data Analysis' has been returned. 10 copy(s) available.\n"
          ]
        }
      ]
    },
    {
      "cell_type": "markdown",
      "source": [
        "8.For a ticket booking system, you have to design the \"Ticket\" class with OOP\n",
        "principles in mind. The “Ticket” class should have the following attributes:\n",
        "a. ticket_id: Represents the unique identifier for the ticket.\n",
        "b. event_name: Represents the name of the event.\n",
        "c. event_date: Represents the date of the event.\n",
        "d. venue: Represents the venue of the event.\n",
        "e. seat_number: Represents the seat number associated with the ticket.\n",
        "f. price: Represents the price of the ticket.\n",
        "g. is_reserved: Represents the reservation status of the ticket.\n",
        "The class also includes the following methods:\n",
        "a. reserve_ticket(self): Marks the ticket as reserved if it is not already reserved.\n",
        "b. cancel_reservation(self): Cancels the reservation of the ticket if it is already\n",
        "reserved.\n",
        "c. display_ticket_info(self): Displays the information about the ticket, including its\n",
        "attributes and reservation status."
      ],
      "metadata": {
        "id": "w0yllSLm0rtb"
      }
    },
    {
      "cell_type": "code",
      "source": [
        "class Ticket:\n",
        "    def __init__(self, ticket_id, event_name, event_date, venue, seat_number, price, is_reserved):\n",
        "        self.ticket_id = ticket_id\n",
        "        self.event_name = event_name\n",
        "        self.event_date = event_date\n",
        "        self.venue = venue\n",
        "        self.seat_number = seat_number\n",
        "        self.price = price\n",
        "        self.is_reserved = is_reserved\n",
        "    def reserve_ticket(self):\n",
        "        if self.is_reserved:\n",
        "            print(\"Ticket is already reserved\")\n",
        "        else:\n",
        "            self.is_reserved = True\n",
        "\n",
        "    def cancel_reservation(self):\n",
        "        if not self.is_reserved:\n",
        "            print(\"Ticket is not reserved\")\n",
        "        else:\n",
        "            self.is_reserved = False\n",
        "\n",
        "    def display_ticket_info(self):\n",
        "        print(f\"Ticket ID: {self.ticket_id}\")\n",
        "        print(f\"Event name: {self.event_name}\")\n",
        "        print(f\"Event date: {self.event_date}\")\n",
        "        print(f\"Venue: {self.venue}\")\n",
        "        print(f\"Seat number: {self.seat_number}\")\n",
        "        print(f\"Price: {self.price}\")\n",
        "        print(f\"Reservation status: {self.is_reserved}\")\n",
        "\n",
        "\n",
        "ticket = Ticket(1, \"jailer\", \"2023-12-12\", \"sri\", 11, 500, True)\n",
        "ticket.reserve_ticket()\n",
        "ticket.cancel_reservation()\n",
        "ticket.display_ticket_info()\n"
      ],
      "metadata": {
        "colab": {
          "base_uri": "https://localhost:8080/"
        },
        "id": "OFVnXItO0edN",
        "outputId": "15334025-21b1-4047-e73c-435c3ea62343"
      },
      "execution_count": null,
      "outputs": [
        {
          "output_type": "stream",
          "name": "stdout",
          "text": [
            "Ticket is already reserved\n",
            "Ticket ID: 1\n",
            "Event name: jailer\n",
            "Event date: 2023-12-12\n",
            "Venue: sri\n",
            "Seat number: 11\n",
            "Price: 500\n",
            "Reservation status: False\n"
          ]
        }
      ]
    },
    {
      "cell_type": "markdown",
      "source": [
        "9.\n",
        "You are creating a shopping cart for an e-commerce website. Using OOP to model\n",
        "the \"ShoppingCart\" functionality the class should contain following attributes and\n",
        "methods:\n",
        "a. items: Represents the list of items in the shopping cart.\n",
        "The class also includes the following methods:\n",
        "\n",
        "a. add_item(self, item): Adds an item to the shopping cart by appending it to the\n",
        "list of items.\n",
        "b. remove_item(self, item): Removes an item from the shopping cart if it exists in\n",
        "the list.\n",
        "c. view_cart(self): Displays the items currently present in the shopping cart.\n",
        "d. clear_cart(self): Clears all items from the shopping cart by reassigning an\n",
        "empty list to the items attribute."
      ],
      "metadata": {
        "id": "iPsajKic1Gwx"
      }
    },
    {
      "cell_type": "code",
      "source": [
        "class ShoppingCart:\n",
        "    def __init__(self):\n",
        "        self.items = []\n",
        "    def add_item(self,add_item):\n",
        "        add_item_list = self.items\n",
        "        add_item_list.append(add_item)\n",
        "        print(f\"Your Item {add_item} has been Added\")\n",
        "    def remove_item(self,remove_item):\n",
        "        remove_item_list = self.items\n",
        "        remove_item_list.remove(remove_item)\n",
        "        print(f\"Your Item {remove_item} has been  Removed \")\n",
        "\n",
        "    def view_cart(self):\n",
        "        view_item_list = self.items\n",
        "        if len(view_item_list) != 0:\n",
        "            print(\"Your Items in cart\")\n",
        "            for idx,items in enumerate(view_item_list):\n",
        "                print(f\"{idx+1} : {items}\")\n",
        "        else:\n",
        "            print(\"Your cart is already Empty\")\n",
        "    def clear_cart(self):\n",
        "        clear_item_list = self.items\n",
        "        if len(clear_item_list) != 0:\n",
        "            clear_item_list.pop()\n",
        "            print(\"your cart has been cleared...\")\n",
        "        else:\n",
        "            print(\"Your cart is already Empty\")\n",
        "\n",
        "shop = ShoppingCart()\n",
        "shop.add_item(\"carrot\")\n",
        "shop.add_item(\"beans\")\n",
        "shop.view_cart()\n",
        "shop.remove_item(\"beans\")\n",
        "shop.view_cart()\n",
        "shop.clear_cart()"
      ],
      "metadata": {
        "colab": {
          "base_uri": "https://localhost:8080/"
        },
        "id": "UzYrzOnz1D2r",
        "outputId": "0472bf8d-b194-41ec-850d-574d9bdb1c73"
      },
      "execution_count": null,
      "outputs": [
        {
          "output_type": "stream",
          "name": "stdout",
          "text": [
            "Your Item carrot has been Added\n",
            "Your Item beans has been Added\n",
            "Your available Items\n",
            "1 : carrot\n",
            "2 : beans\n",
            "Your Item beans has been  Removed \n",
            "Your available Items\n",
            "1 : carrot\n",
            "your cart has been cleared...\n"
          ]
        }
      ]
    },
    {
      "cell_type": "markdown",
      "source": [
        "10. Imagine a school management system. You have to design the \"Student\" class using\n",
        "OOP concepts.The “Student” class has the following attributes:\n",
        "a. name: Represents the name of the student.\n",
        "b. age: Represents the age of the student.\n",
        "c. grade: Represents the grade or class of the student.\n",
        "d. student_id: Represents the unique identifier for the student.\n",
        "e. attendance: Represents the attendance record of the student.\n",
        "The class should also include the following methods:\n",
        "a. update_attendance(self, date, status): Updates the attendance record of the\n",
        "student for a given date with the provided status (e.g., present or absent).\n",
        "b. get_attendance(self): Returns the attendance record of the student.\n",
        "c. get_average_attendance(self): Calculates and returns the average\n",
        "attendance percentage of the student based on their attendance record."
      ],
      "metadata": {
        "id": "whm6DGDM2jc1"
      }
    },
    {
      "cell_type": "code",
      "source": [
        "class Student:\n",
        "    def __init__(self, name, age, grade, student_id):\n",
        "        self.name = name\n",
        "        self.age = age\n",
        "        self.grade = grade\n",
        "        self.student_id = student_id\n",
        "        self.attendance = []\n",
        "\n",
        "    def update_attendance(self, date, status):\n",
        "        self.attendance.append((date, status))\n",
        "\n",
        "    def get_attendance(self):\n",
        "        return self.attendance\n",
        "\n",
        "    def get_average_attendance(self):\n",
        "        total_days = len(self.attendance)\n",
        "        present_days = sum(1 for date, status in self.attendance if status == \"present\")\n",
        "        average_attendance = (present_days / total_days) * 100\n",
        "        return average_attendance\n",
        "\n",
        "\n",
        "\n",
        "student = Student(\"sriram\", 23, 2, 12345)\n",
        "student.update_attendance(\"2023-08-16\", \"present\")\n",
        "student.update_attendance(\"2023-08-17\", \"absent\")\n",
        "print(student.get_attendance())\n",
        "print(student.get_average_attendance())"
      ],
      "metadata": {
        "colab": {
          "base_uri": "https://localhost:8080/"
        },
        "id": "JC49WTca2CG_",
        "outputId": "8a8ee44d-0d4b-4c14-bdba-f6e5dd60c158"
      },
      "execution_count": null,
      "outputs": [
        {
          "output_type": "stream",
          "name": "stdout",
          "text": [
            "[('2023-08-16', 'present'), ('2023-08-17', 'absent')]\n",
            "50.0\n"
          ]
        }
      ]
    },
    {
      "cell_type": "code",
      "source": [],
      "metadata": {
        "id": "i9YUzZIP2z7b"
      },
      "execution_count": null,
      "outputs": []
    }
  ]
}