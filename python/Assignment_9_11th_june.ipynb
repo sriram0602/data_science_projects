{
  "nbformat": 4,
  "nbformat_minor": 0,
  "metadata": {
    "colab": {
      "provenance": []
    },
    "kernelspec": {
      "name": "python3",
      "display_name": "Python 3"
    },
    "language_info": {
      "name": "python"
    }
  },
  "cells": [
    {
      "cell_type": "markdown",
      "source": [
        "1. What is a lambda function in Python, and how does it differ from a regular function?"
      ],
      "metadata": {
        "id": "mA9WLOobBbTf"
      }
    },
    {
      "cell_type": "code",
      "execution_count": 1,
      "metadata": {
        "colab": {
          "base_uri": "https://localhost:8080/"
        },
        "id": "A735cqdiBaDg",
        "outputId": "7d976ccd-6466-4432-c13c-18eb977f11c9"
      },
      "outputs": [
        {
          "output_type": "stream",
          "name": "stdout",
          "text": [
            "15\n"
          ]
        }
      ],
      "source": [
        "\"\"\"\n",
        "Lambda functions can only have one expression. This means that they cannot have a block of code, like a regular function.\n",
        "Lambda functions are often used as inline functions. They are defined and used in the same line of code.\n",
        "\"\"\"\n",
        "\n",
        "add=lambda a,b:a+b # here it is a lambda function which takes two values and returns the addition of it.\n",
        "\n",
        "print(add(5,10))"
      ]
    },
    {
      "cell_type": "markdown",
      "source": [
        "2.Can a lambda function in Python have multiple arguments? If yes, how can you define and use\n",
        "them?"
      ],
      "metadata": {
        "id": "wkjEM5ouBuQB"
      }
    },
    {
      "cell_type": "code",
      "source": [
        "#yes lambda function can have multiple arguments\n",
        "add=lambda a,b:a+b # here it is a lambda function which takes two arguements and returns the addition of it.\n",
        "\n",
        "print(add(5,10))"
      ],
      "metadata": {
        "colab": {
          "base_uri": "https://localhost:8080/"
        },
        "id": "UzDHnlGJBzh5",
        "outputId": "9dab66b9-0c08-4540-9536-d87aa447bda8"
      },
      "execution_count": 2,
      "outputs": [
        {
          "output_type": "stream",
          "name": "stdout",
          "text": [
            "15\n"
          ]
        }
      ]
    },
    {
      "cell_type": "markdown",
      "source": [
        "3.How are lambda functions typically used in Python? Provide an example use case."
      ],
      "metadata": {
        "id": "kMmRTrIECAiO"
      }
    },
    {
      "cell_type": "code",
      "source": [
        "\"\"\"\n",
        "Lambda functions in Python are typically used in situations where you need a small,\n",
        "short-lived function for a specific task without the need to define a separate named function.\n",
        "They are particularly useful in functional programming and situations where you need to pass a function as an argument to another function.\n",
        "\n",
        "One common use case for lambda functions is in combination with built-in functions\n",
        "like map(), filter(), and reduce(). These functions take a function as one of their arguments and apply that\n",
        "function to elements in a sequence, allowing you to perform operations on each element or filter elements based on a condition.\n",
        "\n",
        "\"\"\"\n",
        "\n",
        "\n",
        "num = [1, 2, 3, 4, 5]\n",
        "\n",
        "cube_num = list(map(lambda x: x**3, num)) #returns cube numbers of list num\n",
        "\n",
        "print(cube_num)  # Output: [1, 4, 9, 16, 25]"
      ],
      "metadata": {
        "colab": {
          "base_uri": "https://localhost:8080/"
        },
        "id": "3zsSOqHKB_gK",
        "outputId": "b7232f55-b062-42c8-a5ce-fa2a8d69a331"
      },
      "execution_count": 3,
      "outputs": [
        {
          "output_type": "stream",
          "name": "stdout",
          "text": [
            "[1, 8, 27, 64, 125]\n"
          ]
        }
      ]
    },
    {
      "cell_type": "markdown",
      "source": [
        "4.What are the advantages and limitations of lambda functions compared to regular functions in\n",
        "Python?"
      ],
      "metadata": {
        "id": "tW7fVRMICiCU"
      }
    },
    {
      "cell_type": "code",
      "source": [
        "\"\"\"\n",
        "Advantages of lambda functions:\n",
        "\n",
        "Short and concise. Lambda functions are typically much shorter and more concise than regular functions. This makes them easier to read and understand,\n",
        "and they can be used in places where regular functions would be too verbose.\n",
        "Efficient. Lambda functions are often more efficient than regular functions, because they do not have to create a new scope or save the function definition in memory.\n",
        "Flexible. Lambda functions can be used in a variety of ways, including as the argument to other functions, in list comprehensions, and in map() and filter() functions.\n",
        "\n",
        "\n",
        "Limitations of lambda functions:\n",
        "\n",
        "No name. Lambda functions do not have a name, so they cannot be called by name. They can only be passed around as values or used as the argument to other functions.\n",
        "Single expression. Lambda functions can only have a single expression. This means that they cannot contain any blocks of code, only a single expression.\n",
        "Not reusable. Lambda functions are not reusable. Once they have been defined, they cannot be called again.\n",
        "\n",
        "\"\"\""
      ],
      "metadata": {
        "id": "Js38oroECge4"
      },
      "execution_count": null,
      "outputs": []
    },
    {
      "cell_type": "markdown",
      "source": [
        "5.Are lambda functions in Python able to access variables defined outside of their own scope?\n",
        "Explain with an example."
      ],
      "metadata": {
        "id": "A2hMRLwcDFtS"
      }
    },
    {
      "cell_type": "code",
      "source": [
        "# yes the lambda functions can acces the variable defined outside their own scope\n",
        "\n",
        "a=10\n",
        "add=lambda b:b+a\n",
        "\n",
        "add(12)\n"
      ],
      "metadata": {
        "colab": {
          "base_uri": "https://localhost:8080/"
        },
        "id": "FVklKt3jDD3m",
        "outputId": "20dbb09c-47c7-4590-ed6f-19d0d9146802"
      },
      "execution_count": 5,
      "outputs": [
        {
          "output_type": "execute_result",
          "data": {
            "text/plain": [
              "22"
            ]
          },
          "metadata": {},
          "execution_count": 5
        }
      ]
    },
    {
      "cell_type": "markdown",
      "source": [
        "6.Write a lambda function to calculate the square of a given number."
      ],
      "metadata": {
        "id": "FOJ0cq4eDzGK"
      }
    },
    {
      "cell_type": "code",
      "source": [
        "square_num=lambda x:x**2\n",
        "square_num(5)"
      ],
      "metadata": {
        "colab": {
          "base_uri": "https://localhost:8080/"
        },
        "id": "2QIDIDgyDx81",
        "outputId": "a6b64fd3-1142-4960-9fcc-96fc9e1b69b3"
      },
      "execution_count": 6,
      "outputs": [
        {
          "output_type": "execute_result",
          "data": {
            "text/plain": [
              "25"
            ]
          },
          "metadata": {},
          "execution_count": 6
        }
      ]
    },
    {
      "cell_type": "markdown",
      "source": [
        "7.Create a lambda function to find the maximum value in a list of integers."
      ],
      "metadata": {
        "id": "70gh-5f8D-EV"
      }
    },
    {
      "cell_type": "code",
      "source": [
        "max_list=lambda lst:max(lst)\n",
        "max_list([1,2,3,4])"
      ],
      "metadata": {
        "colab": {
          "base_uri": "https://localhost:8080/"
        },
        "id": "Yjln_y4gD8D_",
        "outputId": "dd02ee3f-2db9-4ab1-8dd6-6820a74283f4"
      },
      "execution_count": 7,
      "outputs": [
        {
          "output_type": "execute_result",
          "data": {
            "text/plain": [
              "4"
            ]
          },
          "metadata": {},
          "execution_count": 7
        }
      ]
    },
    {
      "cell_type": "markdown",
      "source": [
        "8.Implement a lambda function to filter out all the even numbers from a list of integers."
      ],
      "metadata": {
        "id": "0IuJdnGiERrS"
      }
    },
    {
      "cell_type": "code",
      "source": [
        "filter_even = lambda lst: list(filter(lambda x: x % 2 == 0, lst))\n",
        "filter_even([1,2,3,4,5,6])"
      ],
      "metadata": {
        "colab": {
          "base_uri": "https://localhost:8080/"
        },
        "id": "dznXB3xOELp_",
        "outputId": "da5058de-e7bb-4c0c-d73d-10ba9ed8e714"
      },
      "execution_count": 8,
      "outputs": [
        {
          "output_type": "execute_result",
          "data": {
            "text/plain": [
              "[2, 4, 6]"
            ]
          },
          "metadata": {},
          "execution_count": 8
        }
      ]
    },
    {
      "cell_type": "markdown",
      "source": [
        "9.Write a lambda function to sort a list of strings in ascending order based on the length of each\n",
        "string."
      ],
      "metadata": {
        "id": "VEEKWtDyFX0p"
      }
    },
    {
      "cell_type": "code",
      "source": [
        "sort_by_length = lambda lst: sorted(lst, key=lambda x: len(x))\n",
        "sort_by_length(['apple',\"ball\",\"cat\",\"donkey\"])"
      ],
      "metadata": {
        "colab": {
          "base_uri": "https://localhost:8080/"
        },
        "id": "weIAePvMFVY5",
        "outputId": "d70d499f-89a6-488e-bddd-8b85fc95c78f"
      },
      "execution_count": 9,
      "outputs": [
        {
          "output_type": "execute_result",
          "data": {
            "text/plain": [
              "['cat', 'ball', 'apple', 'donkey']"
            ]
          },
          "metadata": {},
          "execution_count": 9
        }
      ]
    },
    {
      "cell_type": "markdown",
      "source": [
        "10.Create a lambda function that takes two lists as input and returns a new list containing the\n",
        "common elements between the two lists."
      ],
      "metadata": {
        "id": "yqtzxVmxFyoo"
      }
    },
    {
      "cell_type": "code",
      "source": [
        "cmmn_elmnts = lambda lst1, lst2: list(filter(lambda x: x in lst2, lst1))\n",
        "cmmn_elmnts(['apple',\"ball\",\"cat\",\"donkey\"],['cat','donkey',\"elephant\",\"fish\"])"
      ],
      "metadata": {
        "colab": {
          "base_uri": "https://localhost:8080/"
        },
        "id": "A4ZBbT5zFp5k",
        "outputId": "611db6b4-6667-4c1f-d42c-b66c1543c7b2"
      },
      "execution_count": 10,
      "outputs": [
        {
          "output_type": "execute_result",
          "data": {
            "text/plain": [
              "['cat', 'donkey']"
            ]
          },
          "metadata": {},
          "execution_count": 10
        }
      ]
    },
    {
      "cell_type": "markdown",
      "source": [
        "11.Write a recursive function to calculate the factorial of a given positive integer."
      ],
      "metadata": {
        "id": "5RvctbcnGL3W"
      }
    },
    {
      "cell_type": "code",
      "source": [
        "def fact(n):\n",
        "    if n == 0:\n",
        "        return 1\n",
        "    else:\n",
        "        return n * fact(n - 1)\n",
        "fact(5)"
      ],
      "metadata": {
        "colab": {
          "base_uri": "https://localhost:8080/"
        },
        "id": "WdRtKFgYGKJB",
        "outputId": "aa9b23eb-31b3-4edf-ce19-690aa158c3c2"
      },
      "execution_count": 11,
      "outputs": [
        {
          "output_type": "execute_result",
          "data": {
            "text/plain": [
              "120"
            ]
          },
          "metadata": {},
          "execution_count": 11
        }
      ]
    },
    {
      "cell_type": "markdown",
      "source": [
        "12.Implement a recursive function to compute the nth Fibonacci number."
      ],
      "metadata": {
        "id": "dfo6Sh6uGf9q"
      }
    },
    {
      "cell_type": "code",
      "source": [
        "def fib(n):\n",
        "    if n <= 0:\n",
        "        return(\"value must be greater than 1\")\n",
        "    elif n == 1:\n",
        "        return 0\n",
        "    elif n == 2:\n",
        "        return 1\n",
        "    else:\n",
        "        return fib(n - 1) + fib(n - 2)\n",
        "\n",
        "print(fib(10))"
      ],
      "metadata": {
        "colab": {
          "base_uri": "https://localhost:8080/"
        },
        "id": "eEZhyJLOGda9",
        "outputId": "070e72d5-b354-4b1b-db78-e127a7dbfadc"
      },
      "execution_count": 12,
      "outputs": [
        {
          "output_type": "stream",
          "name": "stdout",
          "text": [
            "34\n"
          ]
        }
      ]
    },
    {
      "cell_type": "markdown",
      "source": [
        "13.Create a recursive function to find the sum of all the elements in a given list."
      ],
      "metadata": {
        "id": "7d8C1qEzG7aK"
      }
    },
    {
      "cell_type": "code",
      "source": [
        "def sum(lst):\n",
        "  if not lst:\n",
        "        return 0\n",
        "  else:\n",
        "        return lst[0] + sum(lst[1:])\n",
        "\n",
        "sum([1,2,3,4])\n"
      ],
      "metadata": {
        "colab": {
          "base_uri": "https://localhost:8080/"
        },
        "id": "1jBy-2dJG5r2",
        "outputId": "46f5460c-bb6c-4672-fba6-3f8bac4a98bb"
      },
      "execution_count": 13,
      "outputs": [
        {
          "output_type": "execute_result",
          "data": {
            "text/plain": [
              "10"
            ]
          },
          "metadata": {},
          "execution_count": 13
        }
      ]
    },
    {
      "cell_type": "markdown",
      "source": [
        "14.Write a recursive function to determine whether a given string is a palindrome."
      ],
      "metadata": {
        "id": "sRChw9AlHjU1"
      }
    },
    {
      "cell_type": "code",
      "source": [
        "def check_palindrome(s):\n",
        "    if len(s) <= 1:\n",
        "        return True\n",
        "    elif s[0] != s[-1]:\n",
        "        return False\n",
        "    else:\n",
        "        return check_palindrome(s[1:-1])\n",
        "print(check_palindrome(\"madam\"))"
      ],
      "metadata": {
        "colab": {
          "base_uri": "https://localhost:8080/"
        },
        "id": "ITn2eVb8Hf2e",
        "outputId": "a80e4990-e7f9-4dd1-ecfe-6b5a47301ae0"
      },
      "execution_count": 15,
      "outputs": [
        {
          "output_type": "stream",
          "name": "stdout",
          "text": [
            "True\n"
          ]
        }
      ]
    },
    {
      "cell_type": "markdown",
      "source": [
        "15.Implement a recursive function to find the greatest common divisor (GCD) of two positive integers."
      ],
      "metadata": {
        "id": "zYlJjxItH2tE"
      }
    },
    {
      "cell_type": "code",
      "source": [
        "def gcd(a, b):\n",
        "    if b == 0:\n",
        "        return a\n",
        "    else:\n",
        "        return gcd(b, a % b)\n",
        "print(gcd(5, 10))"
      ],
      "metadata": {
        "colab": {
          "base_uri": "https://localhost:8080/"
        },
        "id": "1esaIDVtH1gN",
        "outputId": "c99479a5-a530-4783-aef3-c08cbc4b50e0"
      },
      "execution_count": 16,
      "outputs": [
        {
          "output_type": "stream",
          "name": "stdout",
          "text": [
            "5\n"
          ]
        }
      ]
    },
    {
      "cell_type": "code",
      "source": [],
      "metadata": {
        "id": "cQGOzZZuIPMG"
      },
      "execution_count": null,
      "outputs": []
    }
  ]
}