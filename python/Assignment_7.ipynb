{
  "nbformat": 4,
  "nbformat_minor": 0,
  "metadata": {
    "colab": {
      "provenance": []
    },
    "kernelspec": {
      "name": "python3",
      "display_name": "Python 3"
    },
    "language_info": {
      "name": "python"
    }
  },
  "cells": [
    {
      "cell_type": "markdown",
      "source": [
        "Q.1. Create two int type variables, apply addition, subtraction, division and multiplications\n",
        "and store the results in variables. Then print the data in the following format by calling the\n",
        "variables:\n",
        "First variable is __ & second variable is __.\n",
        "Addition: __ + __ = __\n",
        "Subtraction: __ - __ = __\n",
        "Multiplication: __ * __ = __\n",
        "Division: __ / __ = __"
      ],
      "metadata": {
        "id": "aNzmT1RJMeeY"
      }
    },
    {
      "cell_type": "code",
      "execution_count": null,
      "metadata": {
        "colab": {
          "base_uri": "https://localhost:8080/"
        },
        "id": "JVhhL5NtMJGJ",
        "outputId": "f17d8d76-fb8c-42a7-eb5c-05e210262ab9"
      },
      "outputs": [
        {
          "output_type": "stream",
          "name": "stdout",
          "text": [
            "First variable is 4 & second variable is 2.\n",
            "Addition: 4 + 2 = 6\n",
            "Subtraction: 4 - 2 = 2\n",
            "Division: 4 / 2 = 2.0\n",
            "Multiplication: 4 * 2 = 8\n"
          ]
        }
      ],
      "source": [
        "def calculate(a,b):\n",
        "  add = a + b\n",
        "  sub = a - b\n",
        "  div = a / b\n",
        "  mul= a * b\n",
        "\n",
        "  print(f\"First variable is {a} & second variable is {b}.\")\n",
        "  print(f\"Addition: {a} + {b} = {add}\")\n",
        "  print(f\"Subtraction: {a} - {b} = {sub}\")\n",
        "  print(f\"Division: {a} / {b} = {div}\")\n",
        "  print(f\"Multiplication: {a} * {b} = {mul}\")\n",
        "\n",
        "calculate(4,2)"
      ]
    },
    {
      "cell_type": "markdown",
      "source": [
        "Q.2. What is the difference between the following operators:\n",
        "(i) ‘/’ & ‘//’\n",
        "(ii) ‘**’ & ‘^’"
      ],
      "metadata": {
        "id": "53iog7jVMeUk"
      }
    },
    {
      "cell_type": "code",
      "source": [
        "#/ - it is division operator and returns the division with decimal value and\n",
        "#//-it is a floor division operator and return the division value as int\n",
        "\n",
        "#example\n",
        "print(\"division /\",5/2)\n",
        "print(\"floor division //\",5//2)\n",
        "\n",
        "\n",
        "#(ii) ‘**’ & ‘^’\n",
        "# **- operator performs exponentiation. This means that the first operand is raised to the power of the second operand.\n",
        "# ^ -operator performs bitwise XOR. This means that the bits of the two operands are compared and the result is printed\n",
        "print(\"power **\",2**2)\n",
        "print(\"XOR ^\",2^2)"
      ],
      "metadata": {
        "colab": {
          "base_uri": "https://localhost:8080/"
        },
        "id": "5YQCllwMNKhd",
        "outputId": "efd7724c-3faf-457e-97f6-60ef4b89f017"
      },
      "execution_count": null,
      "outputs": [
        {
          "output_type": "stream",
          "name": "stdout",
          "text": [
            "division / 2.5\n",
            "floor division // 2\n",
            "power ** 4\n",
            "XOR ^ 0\n"
          ]
        }
      ]
    },
    {
      "cell_type": "markdown",
      "source": [
        "Q.3. List the logical operators."
      ],
      "metadata": {
        "id": "d16tvLb1OGwv"
      }
    },
    {
      "cell_type": "code",
      "source": [
        "\"\"\"\n",
        "and : Returns True if both operands are True, False otherwise.\n",
        "or : Returns True if either operand is True, False otherwise.\n",
        "not : Reverses the truth value of the operand.\n",
        "== : Returns True if the operands are equal, False otherwise.\n",
        "!= : Returns True if the operands are not equal, False otherwise.\n",
        "< : Returns True if the left operand is less than the right operand, False otherwise.\n",
        "<= : Returns True if the left operand is less than or equal to the right operand, False otherwise.\n",
        "> : Returns True if the left operand is greater than the right operand, False otherwise.\n",
        ">= : Returns True if the left operand is greater than or equal to the right operand, False otherwise.\n",
        "\n",
        "\n",
        "\"\"\""
      ],
      "metadata": {
        "id": "NXdR1vNINqds"
      },
      "execution_count": null,
      "outputs": []
    },
    {
      "cell_type": "markdown",
      "source": [
        "Q.4.Explain right shift operator and left shift operator with examples."
      ],
      "metadata": {
        "id": "eW3Q70nROPCZ"
      }
    },
    {
      "cell_type": "code",
      "source": [
        "\"\"\"\n",
        "right shift operator (>>) and the left shift operator (<<)\n",
        "are bitwise operators that are used to shift the bits of a number to the right or left.\n",
        "\"\"\"\n",
        "#right shift\n",
        "n = 8\n",
        "print(f\"right shift {n} by 2 bits\",n >> 2)\n",
        "\n",
        "#left shift\n",
        "print(f\"left shift {n} by 2 bits\",n << 2)"
      ],
      "metadata": {
        "colab": {
          "base_uri": "https://localhost:8080/"
        },
        "id": "5d53oKi4ON58",
        "outputId": "3f463fe6-b089-46e1-92e0-a7216b33e75f"
      },
      "execution_count": null,
      "outputs": [
        {
          "output_type": "stream",
          "name": "stdout",
          "text": [
            "right shift 8 by 2 bits 2\n",
            "left shift 8 by 2 bits 32\n"
          ]
        }
      ]
    },
    {
      "cell_type": "markdown",
      "source": [
        "Q.5. Create a list containing int type data of length 15. Then write a code to check if 10 is\n",
        "present in the list or not."
      ],
      "metadata": {
        "id": "O4BtCjSJOvPm"
      }
    },
    {
      "cell_type": "code",
      "source": [
        "lst_15=list(range(1,16,1))\n",
        "if 10 in lst_15:\n",
        "  print(f\"The length of list is {len(lst_15)} and the number 10 is in the list\")\n",
        "else:\n",
        "  print(f\"The length of list is {len(lst_15)} and the number 10 is not in the list\")\n"
      ],
      "metadata": {
        "colab": {
          "base_uri": "https://localhost:8080/"
        },
        "id": "E0IKpcpwOoeR",
        "outputId": "1fa82ade-b057-479d-c838-ddf6696be3be"
      },
      "execution_count": null,
      "outputs": [
        {
          "output_type": "stream",
          "name": "stdout",
          "text": [
            "The length of list is 15 and the number 10 is in the list\n"
          ]
        }
      ]
    },
    {
      "cell_type": "code",
      "source": [],
      "metadata": {
        "id": "NXghS2PZO24o"
      },
      "execution_count": null,
      "outputs": []
    }
  ]
}