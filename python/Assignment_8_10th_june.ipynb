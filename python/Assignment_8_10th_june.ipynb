{
  "nbformat": 4,
  "nbformat_minor": 0,
  "metadata": {
    "colab": {
      "provenance": []
    },
    "kernelspec": {
      "name": "python3",
      "display_name": "Python 3"
    },
    "language_info": {
      "name": "python"
    }
  },
  "cells": [
    {
      "cell_type": "markdown",
      "source": [
        "1. In Python, what is the difference between a built-in function and a user-defined function? Provide an\n",
        "example of each."
      ],
      "metadata": {
        "id": "H31UDJgC2WUe"
      }
    },
    {
      "cell_type": "code",
      "execution_count": 2,
      "metadata": {
        "colab": {
          "base_uri": "https://localhost:8080/"
        },
        "id": "kn-8thmi13AE",
        "outputId": "831fc668-fbc2-477a-b3e7-6184b9719559"
      },
      "outputs": [
        {
          "output_type": "stream",
          "name": "stdout",
          "text": [
            "4\n",
            "9\n"
          ]
        }
      ],
      "source": [
        "\"\"\"\n",
        "Built-in functions are functions that are already defined in the Python interpreter.\n",
        "They can be used in the Python program, without  defining them.\n",
        "Some examples of built-in functions include print(), len(),max() and abs()\n",
        "\n",
        "User-defined functions are functions that shoud be defined by the user  in your Python program.\n",
        "They can be used to perform any task and they can be reused as many times as needed.\n",
        "To define a user-defined function, def keyword is used\n",
        "\"\"\"\n",
        "\n",
        "#example of  built-in function\n",
        "lst=[1,2,3,4]\n",
        "print(max(lst))# max() is built in function that return maximum value in a list\n",
        "\n",
        "#example of user defined function\n",
        "\n",
        "def add(a,b):# add is a user defined function that takes two values and returns the addition value\n",
        "  return a+b\n",
        "\n",
        "print(add(4,5))"
      ]
    },
    {
      "cell_type": "markdown",
      "source": [
        "2.How can you pass arguments to a function in Python? Explain the difference between positional\n",
        "arguments and keyword arguments."
      ],
      "metadata": {
        "id": "fJrfqf_k3poU"
      }
    },
    {
      "cell_type": "code",
      "source": [
        "\"\"\"\n",
        "Positional arguments are the arguments that are passed to a function in the order they are defined in the function's definition.\n",
        "\n",
        "\"\"\"\n",
        "\n",
        "def add(a,b): #here the function is defined with two arguements\n",
        "    return a+b\n",
        "add(5,6)#passing two arguments to functions,since it is defined with two\n",
        "\n",
        "\n",
        "\"\"\"\n",
        "Keyword arguments are the arguments that are passed to a function by name. Keyword arguments can be passed in any order,\n",
        "and they can be used to override the default values of positional arguments. For example, the following function takes two positional arguments,\n",
        "but it also has a default value for the second argument\n",
        "\n",
        "\"\"\"\n",
        "def add2(a,b=10):# The function is defined with two arguements ,the second arguement has a default value of 10\n",
        "    return a+b\n",
        "\n",
        "print(add2(1, 2))# here the function is called with two arguement with second arguement value 2 which will override the default value of arguement.\n",
        "print(add2(1))#here only one arquement is passed ,so function will take the default value as second argument\n"
      ],
      "metadata": {
        "colab": {
          "base_uri": "https://localhost:8080/"
        },
        "id": "arm6k6322YEw",
        "outputId": "6966c011-4e54-4ad6-83f3-2366b34cb45c"
      },
      "execution_count": 3,
      "outputs": [
        {
          "output_type": "stream",
          "name": "stdout",
          "text": [
            "3\n",
            "11\n"
          ]
        }
      ]
    },
    {
      "cell_type": "markdown",
      "source": [
        "3.What is the purpose of the return statement in a function? Can a function have multiple return\n",
        "statements? Explain with an example."
      ],
      "metadata": {
        "id": "08uhI5OE5LME"
      }
    },
    {
      "cell_type": "code",
      "source": [
        "\"\"\"\n",
        "The return statement in Python is used to end the execution of a function and return a value to the caller.\n",
        "The value that is returned can be any Python object\n",
        "A function can have multiple return statements, but only one of them will be executed\n",
        "\"\"\"\n",
        "def odd_or_even(n):\n",
        "  if n%2==0:\n",
        "    return \"even\"# here the method has multiple return statement but one will be executed\n",
        "  else:\n",
        "    return \"odd\"\n",
        "\n",
        "odd_or_even(3)"
      ],
      "metadata": {
        "colab": {
          "base_uri": "https://localhost:8080/",
          "height": 35
        },
        "id": "I7S0TiTA5Jk1",
        "outputId": "b73aff52-b76e-4866-9254-a6727e8df1ac"
      },
      "execution_count": 4,
      "outputs": [
        {
          "output_type": "execute_result",
          "data": {
            "text/plain": [
              "'odd'"
            ],
            "application/vnd.google.colaboratory.intrinsic+json": {
              "type": "string"
            }
          },
          "metadata": {},
          "execution_count": 4
        }
      ]
    },
    {
      "cell_type": "markdown",
      "source": [
        "4.What are lambda functions in Python? How are they different from regular functions? Provide an\n",
        "example where a lambda function can be useful."
      ],
      "metadata": {
        "id": "-tDuGMKe560-"
      }
    },
    {
      "cell_type": "code",
      "source": [
        "\"\"\"\n",
        "Lambda functions can only have one expression. This means that they cannot have a block of code, like a regular function.\n",
        "Lambda functions are often used as inline functions. They are defined and used in the same line of code.\n",
        "\"\"\"\n",
        "\n",
        "add=lambda a,b:a+b # here it is a lambda function which takes two values and returns the addition of it.\n",
        "\n",
        "print(add(5,10))"
      ],
      "metadata": {
        "colab": {
          "base_uri": "https://localhost:8080/"
        },
        "id": "q3vdgdCw55FF",
        "outputId": "83abd481-f70a-4ffc-e586-e8a866db2ad9"
      },
      "execution_count": 6,
      "outputs": [
        {
          "output_type": "stream",
          "name": "stdout",
          "text": [
            "15\n"
          ]
        }
      ]
    },
    {
      "cell_type": "markdown",
      "source": [
        "5.How does the concept of \"scope\" apply to functions in Python? Explain the difference between local\n",
        "scope and global scope."
      ],
      "metadata": {
        "id": "Glxk15xo6nys"
      }
    },
    {
      "cell_type": "code",
      "source": [
        "\"\"\"\n",
        "Local scope is the scope of a variable that is defined within a function.\n",
        "Variables in local scope has scope  within the function in which they are defined.\n",
        "\n",
        "\n",
        "Global scope is the scope of a variable that is defined outside of any function.\n",
        "Variables in global scope has scope  within any function in the program.\n",
        "\n",
        "\"\"\"\n",
        "\n",
        "#local Scope\n",
        "def add(a,b):\n",
        "    value=a+b # has scope only inside the add function\n",
        "    return True\n",
        "add(1,2)\n",
        "try:\n",
        "  print(value) #---->getting not defined error , because local scope not able to access out side function\n",
        "except NameError as e:\n",
        "  print(e)\n",
        "\n",
        "\n",
        "# globol scope\n",
        "def sub(a,b):\n",
        "    global sub_val\n",
        "    sub_val = a-b\n",
        "    return True\n",
        "sub(12,2)\n",
        "print(sub_val)"
      ],
      "metadata": {
        "colab": {
          "base_uri": "https://localhost:8080/"
        },
        "id": "rsVTyvG26b2Z",
        "outputId": "36005a8f-4697-4cc3-b583-6d86b3f45fd5"
      },
      "execution_count": 8,
      "outputs": [
        {
          "output_type": "stream",
          "name": "stdout",
          "text": [
            "name 'value' is not defined\n",
            "10\n"
          ]
        }
      ]
    },
    {
      "cell_type": "markdown",
      "source": [
        "6.How can you use the \"return\" statement in a Python function to return multiple values?"
      ],
      "metadata": {
        "id": "PBYH_Cb08SNy"
      }
    },
    {
      "cell_type": "code",
      "source": [
        "\"\"\"\n",
        "return statement can return multiple values from a function by simply separating them with commas in the return statement.\n",
        "or returning it as list\n",
        "\"\"\"\n",
        "\n",
        "def add_sub_comma(a,b):\n",
        "  add_val=a+b\n",
        "  sub=a-b\n",
        "  return add_val,sub\n",
        "\n",
        "def add_sub_list(a,b):\n",
        "  add_val=a+b\n",
        "  sub=a-b\n",
        "  return [add_val,sub]\n",
        "\n",
        "\n",
        "return_comma=add_sub_comma(10,5)\n",
        "return_list=add_sub_list(10,5)\n",
        "print(return_comma,\"using comma\")\n",
        "print(return_list,\"using list\")\n"
      ],
      "metadata": {
        "colab": {
          "base_uri": "https://localhost:8080/"
        },
        "id": "jjzGrbfM74EE",
        "outputId": "5e919e0d-0d59-41d3-8c71-957c21877a9d"
      },
      "execution_count": 11,
      "outputs": [
        {
          "output_type": "stream",
          "name": "stdout",
          "text": [
            "(15, 5) using comma\n",
            "[15, 5] using list\n"
          ]
        }
      ]
    },
    {
      "cell_type": "markdown",
      "source": [
        "7.What is the difference between the \"pass by value\" and \"pass by reference\" concepts when it\n",
        "comes to function arguments in Python?"
      ],
      "metadata": {
        "id": "JUJW86T69S1M"
      }
    },
    {
      "cell_type": "code",
      "source": [
        "\"\"\"\n",
        "Pass by value means that a copy of the value is passed to the function.\n",
        "Any changes made to the copy inside the function will not affect the original value.\n",
        "\n",
        "Pass by reference means that the reference to the value is passed to the function.\n",
        "Any changes made to the value inside the function will affect the original value.\n",
        "\n",
        "\"\"\"\n",
        "\n",
        "#pass by value\n",
        "def add(a):\n",
        "    a+=a\n",
        "    return a\n",
        "\n",
        "a=10\n",
        "add(a)\n",
        "print(a)\n",
        "\n",
        "\n",
        "def append_val(lst):\n",
        "  \"\"\"append val to list\"\"\"\n",
        "  lst.append(10)\n",
        "\n",
        "lst = [1, 2, 3]\n",
        "append_val(lst)\n",
        "\n",
        "print(lst)"
      ],
      "metadata": {
        "colab": {
          "base_uri": "https://localhost:8080/"
        },
        "id": "AlGFWEpd9ABm",
        "outputId": "0a46a8ce-cf86-438a-f9bb-94189f59ad90"
      },
      "execution_count": 12,
      "outputs": [
        {
          "output_type": "stream",
          "name": "stdout",
          "text": [
            "10\n",
            "[1, 2, 3, 10]\n"
          ]
        }
      ]
    },
    {
      "cell_type": "markdown",
      "source": [
        "8.Create a function that can intake integer or decimal value and do following operations:\n",
        "a. Logarithmic function (log x)\n",
        "b. Exponential function (exp(x))\n",
        "c. Power function with base 2 (2x)\n",
        "d. Square root"
      ],
      "metadata": {
        "id": "dpcPpWzs-IdC"
      }
    },
    {
      "cell_type": "code",
      "source": [
        "import math\n",
        "\n",
        "def maths_opp(val):\n",
        "    log_val = math.log(val)\n",
        "    exp_val = math.exp(val)\n",
        "    square_val = 2**val\n",
        "    square_root_val = math.sqrt(val)\n",
        "    return log_val, exp_val, square_val, square_root_val\n",
        "\n",
        "n= 10\n",
        "results = maths_opp(n)\n",
        "\n",
        "print(\"The log of n is\", results[0])\n",
        "print(\"The exponential of n is\", results[1])\n",
        "print(\"2 to the power of n is\", results[2])\n",
        "print(\"The square root of n is\", results[3])"
      ],
      "metadata": {
        "colab": {
          "base_uri": "https://localhost:8080/"
        },
        "id": "RQKN2M_5-DmC",
        "outputId": "8a8121cd-74e0-435f-e3a3-3a4741941d8f"
      },
      "execution_count": 13,
      "outputs": [
        {
          "output_type": "stream",
          "name": "stdout",
          "text": [
            "The log of n is 2.302585092994046\n",
            "The exponential of n is 22026.465794806718\n",
            "2 to the power of n is 1024\n",
            "The square root of n is 3.1622776601683795\n"
          ]
        }
      ]
    },
    {
      "cell_type": "markdown",
      "source": [
        "9.Create a function that takes a full name as an argument and returns first name and last name."
      ],
      "metadata": {
        "id": "9qCTZlmo_jv_"
      }
    },
    {
      "cell_type": "code",
      "source": [
        "def split_name(name):\n",
        "  return name.split(\" \")\n",
        "firstname,lastname=split_name(\"sri ram\")\n",
        "print(f\"The first name is {firstname} and the last name is {lastname}\")\n",
        ""
      ],
      "metadata": {
        "colab": {
          "base_uri": "https://localhost:8080/"
        },
        "id": "FrP1GSUA_h8G",
        "outputId": "03a11ed3-411e-4a27-ec71-b26aa6ef20a5"
      },
      "execution_count": 14,
      "outputs": [
        {
          "output_type": "stream",
          "name": "stdout",
          "text": [
            "The first name is sri and the last name is ram\n"
          ]
        }
      ]
    },
    {
      "cell_type": "code",
      "source": [],
      "metadata": {
        "id": "Nldu1Yu8AKi5"
      },
      "execution_count": null,
      "outputs": []
    }
  ]
}