{
  "nbformat": 4,
  "nbformat_minor": 0,
  "metadata": {
    "colab": {
      "provenance": []
    },
    "kernelspec": {
      "name": "python3",
      "display_name": "Python 3"
    },
    "language_info": {
      "name": "python"
    }
  },
  "cells": [
    {
      "cell_type": "markdown",
      "source": [
        "1. In the below elements which of them are values or an expression? eg:- values can be integer or string and expressions will be mathematical operators.\n",
        "*\n",
        "'hello'\n",
        "-87.8\n",
        "-\n",
        "/\n",
        "+\n",
        "6\n"
      ],
      "metadata": {
        "id": "mhyLsqsGrksA"
      }
    },
    {
      "cell_type": "code",
      "execution_count": 1,
      "metadata": {
        "colab": {
          "base_uri": "https://localhost:8080/"
        },
        "id": "750wwTrfp7P2",
        "outputId": "8bece559-e5f4-4b61-fde2-70e0f9d6310f"
      },
      "outputs": [
        {
          "output_type": "execute_result",
          "data": {
            "text/plain": [
              "['*', '-', '/', '+']"
            ]
          },
          "metadata": {},
          "execution_count": 1
        }
      ],
      "source": [
        "#1.\tThese are following values in the given elements:\n",
        "['hello', -87.8, 6]\n",
        "\n",
        "#These are following expression in the given elements:\n",
        "['*', '-', '/', '+']\n"
      ]
    },
    {
      "cell_type": "markdown",
      "source": [
        "2. What is the difference between string and variable?"
      ],
      "metadata": {
        "id": "FjjjGy8Rr5xL"
      }
    },
    {
      "cell_type": "code",
      "source": [
        "'''String:\n",
        "string is a the data type that can be enclosed in quotation marks i.e(“,’).'''\n",
        "#Example:\n",
        "str1=\"ineuron\"\n",
        "str2='this is a string'\n",
        "#Variable: variable is placeholder to store a datatype in memory.\n",
        "#Example:\n",
        "var=20 #Here var is a variable that stores the int datatype  with value 20 in memory.\n"
      ],
      "metadata": {
        "id": "adQkja8lrkB6"
      },
      "execution_count": 3,
      "outputs": []
    },
    {
      "cell_type": "markdown",
      "source": [
        "3. Describe three different data types."
      ],
      "metadata": {
        "id": "aVrTsj-Bsc1z"
      }
    },
    {
      "cell_type": "code",
      "source": [
        "'''Integer (int): The integer data type represents whole numbers without decimal points.\n",
        "It can be positive or negative, including zero.'''\n",
        "#For example,\n",
        "x = 100\n",
        "y = -150 #assigns integer values to variables x and y,respectively.\n",
        "'''\n",
        "Boolean (bool): The boolean data type represents truth values,\n",
        "either True or False. Booleans are typically used in logical expressions and conditional statements to make decisions.'''\n",
        "#For example,\n",
        "is_condition_met= False #assigns the boolean value False to the variable is_condition_met.\n",
        "#Booleans are used for comparisons, conditions, and control flow in programming.\n",
        "'''String (str): The string data type represents a sequence of characters.\n",
        "Strings are enclosed in either single quotes ('') or double quotes (\"\"). '''\n",
        "#For example,\n",
        "institute = \"ineuron\" #assigns the string \" ineuron\" to the variable institute.\n"
      ],
      "metadata": {
        "id": "EyHoFgdlsU6m"
      },
      "execution_count": 4,
      "outputs": []
    },
    {
      "cell_type": "markdown",
      "source": [
        "4. What is an expression made up of? What do all expressions do?"
      ],
      "metadata": {
        "id": "YUc79sZxtA7g"
      }
    },
    {
      "cell_type": "code",
      "source": [
        "#An expression is a combination of operators and operands that is interpreted to produce some other value.\n",
        "#Example:\n",
        "a=10+12.#here 10+12 is an expression.\n"
      ],
      "metadata": {
        "id": "8sVROtWXs_-1"
      },
      "execution_count": 5,
      "outputs": []
    },
    {
      "cell_type": "markdown",
      "source": [
        "5. This assignment statements, like spam = 10. What is the difference between an expression and a statement?"
      ],
      "metadata": {
        "id": "BOgkWzfLtRJ7"
      }
    },
    {
      "cell_type": "code",
      "source": [
        "'''Expressions only contain identifiers, literals and operators,\n",
        " where operators include arithmetic and boolean operators, the function call operator ()\n",
        " the subscription operator [] and similar, and can be reduced to some kind of \"value\", which can be any Python object.\n",
        " Whereas statements are everything that can make up a line (or several lines) of Python code. Note that expressions are statements as well.'''\n",
        "#Examples:\n",
        "a=10 #is statement.\n",
        "b=10\n",
        "a+b #is expression.\n"
      ],
      "metadata": {
        "colab": {
          "base_uri": "https://localhost:8080/"
        },
        "id": "jr6Naik5tQWK",
        "outputId": "c7073109-e104-4dd0-96b1-79d076317230"
      },
      "execution_count": 7,
      "outputs": [
        {
          "output_type": "execute_result",
          "data": {
            "text/plain": [
              "20"
            ]
          },
          "metadata": {},
          "execution_count": 7
        }
      ]
    },
    {
      "cell_type": "markdown",
      "source": [
        "6.After running the following code, what does the variable bacon contain?\n",
        "bacon = 22\n",
        "bacon + 1\n"
      ],
      "metadata": {
        "id": "EeHYUzHhtsDd"
      }
    },
    {
      "cell_type": "code",
      "source": [
        "#Adds 1 to value stored in bacon which is 22 and stores again the result(23) in bacon. The value of bacon will be 23.\n",
        "bacon = 22\n",
        "bacon + 1\n",
        "\n"
      ],
      "metadata": {
        "colab": {
          "base_uri": "https://localhost:8080/"
        },
        "id": "tlaDwsgotmKv",
        "outputId": "636af410-2bbd-4177-ec41-0f403375e63f"
      },
      "execution_count": 8,
      "outputs": [
        {
          "output_type": "execute_result",
          "data": {
            "text/plain": [
              "23"
            ]
          },
          "metadata": {},
          "execution_count": 8
        }
      ]
    },
    {
      "cell_type": "markdown",
      "source": [
        "7. What should the values of the following two terms be?\n",
        "'spam' + 'spamspam'\n",
        "'spam' * 3\n"
      ],
      "metadata": {
        "id": "gsmPFOXYuEUS"
      }
    },
    {
      "cell_type": "code",
      "source": [
        "print(\"spam\"+\"spamspam\")\n",
        "print(\"spam\"*3)\n"
      ],
      "metadata": {
        "colab": {
          "base_uri": "https://localhost:8080/"
        },
        "id": "0iF1iUpFuAWs",
        "outputId": "2150ddf9-cb66-4ed2-8820-62ec97e431a9"
      },
      "execution_count": 10,
      "outputs": [
        {
          "output_type": "stream",
          "name": "stdout",
          "text": [
            "spamspamspam\n",
            "spamspamspam\n"
          ]
        }
      ]
    },
    {
      "cell_type": "markdown",
      "source": [
        "8.Why is eggs a valid variable name while 100 is invalid?"
      ],
      "metadata": {
        "id": "utgpAGIMwzeu"
      }
    },
    {
      "cell_type": "code",
      "source": [
        "'''The variable name must be start with letter (a-z) (A-Z) or underscore (_) not interger in python.\n",
        "So eggs is valid whereas 100 is invalid.'''\n",
        "eggs=10\n",
        "100=1"
      ],
      "metadata": {
        "colab": {
          "base_uri": "https://localhost:8080/",
          "height": 130
        },
        "id": "2PXLVqcvt_Vr",
        "outputId": "9219922f-a7aa-4d0d-e508-20fc5b9c53ef"
      },
      "execution_count": 11,
      "outputs": [
        {
          "output_type": "error",
          "ename": "SyntaxError",
          "evalue": "ignored",
          "traceback": [
            "\u001b[0;36m  File \u001b[0;32m\"<ipython-input-11-85885a24bb2f>\"\u001b[0;36m, line \u001b[0;32m4\u001b[0m\n\u001b[0;31m    100=1\u001b[0m\n\u001b[0m    ^\u001b[0m\n\u001b[0;31mSyntaxError\u001b[0m\u001b[0;31m:\u001b[0m cannot assign to literal here. Maybe you meant '==' instead of '='?\n"
          ]
        }
      ]
    },
    {
      "cell_type": "markdown",
      "source": [],
      "metadata": {
        "id": "36W87B7QxNEP"
      }
    },
    {
      "cell_type": "markdown",
      "source": [
        "9.What three functions can be used to get the integer, floating-point number, or string version of a value?"
      ],
      "metadata": {
        "id": "FkvWEGDXxNKJ"
      }
    },
    {
      "cell_type": "code",
      "source": [
        "#int()-converts the value to integer.\n",
        "#Example:\n",
        "print(int(\"10\")) #will convert the string 10 to integer 10.\n",
        "#float() –converts the value to float.\n",
        "print(float(\"10.5\")) #will convert the string 10.5 to float 10.\n",
        "#str()-converts the value to string.\n",
        "print(str(10)) #will convert the integer 10 to string 10.\n"
      ],
      "metadata": {
        "colab": {
          "base_uri": "https://localhost:8080/"
        },
        "id": "SV07XvmVxDrj",
        "outputId": "318ff6e8-a4c6-4629-b480-a92a2e29f9f9"
      },
      "execution_count": 13,
      "outputs": [
        {
          "output_type": "stream",
          "name": "stdout",
          "text": [
            "10\n",
            "10.5\n",
            "10\n"
          ]
        }
      ]
    },
    {
      "cell_type": "markdown",
      "source": [
        "10.Why does this expression cause an error? How can you fix it?\n",
        "'I have eaten ' + 99 + ' burritos\n"
      ],
      "metadata": {
        "id": "8H_H_OGMxz8U"
      }
    },
    {
      "cell_type": "code",
      "source": [
        "#'I have eaten ' + 99 + ' burritos.' is a  cancat method ,cancat can be done only string data type ,\n",
        "#but 99 is a integer.converting the 99 to string will fix the error.s\n",
        "#fix:\n",
        "'I have eaten ' + str(99) + ' burritos.'\n"
      ],
      "metadata": {
        "colab": {
          "base_uri": "https://localhost:8080/",
          "height": 35
        },
        "id": "5qySuc_uxjMt",
        "outputId": "a22ab221-3a89-4828-c34a-435a5a4db523"
      },
      "execution_count": 14,
      "outputs": [
        {
          "output_type": "execute_result",
          "data": {
            "text/plain": [
              "'I have eaten 99 burritos.'"
            ],
            "application/vnd.google.colaboratory.intrinsic+json": {
              "type": "string"
            }
          },
          "metadata": {},
          "execution_count": 14
        }
      ]
    },
    {
      "cell_type": "code",
      "source": [],
      "metadata": {
        "id": "YPGiIVC4yHRW"
      },
      "execution_count": null,
      "outputs": []
    }
  ]
}