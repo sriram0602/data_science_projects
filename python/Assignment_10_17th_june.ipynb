{
  "nbformat": 4,
  "nbformat_minor": 0,
  "metadata": {
    "colab": {
      "provenance": []
    },
    "kernelspec": {
      "name": "python3",
      "display_name": "Python 3"
    },
    "language_info": {
      "name": "python"
    }
  },
  "cells": [
    {
      "cell_type": "markdown",
      "source": [
        "1. What is the role of try and exception block?"
      ],
      "metadata": {
        "id": "lSm5f1dDTvdZ"
      }
    },
    {
      "cell_type": "code",
      "execution_count": null,
      "metadata": {
        "id": "ssARybYiTY8J"
      },
      "outputs": [],
      "source": [
        "'''\n",
        "try and exception block handles the  exceptions and errors that may occur during the execution of a program.\n",
        "Exceptions are unexpected events or conditions that disrupt the normal flow of a program and can cause it to terminate abruptly if not handled properly.\n",
        "'''"
      ]
    },
    {
      "cell_type": "markdown",
      "source": [
        "2. What is the syntax for a basic try-except block?"
      ],
      "metadata": {
        "id": "51tBKpeEUhNc"
      }
    },
    {
      "cell_type": "code",
      "source": [
        "#syntax of exception\n",
        "'''\n",
        "try:\n",
        "    # Code that may raise an exception\n",
        "except:\n",
        "    # Code to handle the exception\n",
        "'''\n"
      ],
      "metadata": {
        "id": "ZpR0j6OdUXqH"
      },
      "execution_count": null,
      "outputs": []
    },
    {
      "cell_type": "markdown",
      "source": [
        "3.What happens if an exception occurs inside a try block and there is no matching\n",
        "except block?"
      ],
      "metadata": {
        "id": "hCTxm448UzYk"
      }
    },
    {
      "cell_type": "code",
      "source": [
        "'''\n",
        "If an exception occurs inside a try block in Python, and there is no matching except\n",
        "block to handle that particular type of exception, the program will terminate, and an error message called a traceback will be displayed.\n",
        "'''\n",
        "#example\n",
        "try:\n",
        "    num = 0\n",
        "    result = 10 / num # here it will throw ZeroDivisionError  but ,we have exception for value error only\n",
        "    print(\"Result:\", result)\n",
        "except ValueError:\n",
        "    print(\"Invalid input. Please enter a valid number.\")"
      ],
      "metadata": {
        "colab": {
          "base_uri": "https://localhost:8080/",
          "height": 235
        },
        "id": "FFWa5CCBUyFh",
        "outputId": "2974baf8-faf3-4211-832f-2dd400829c51"
      },
      "execution_count": 3,
      "outputs": [
        {
          "output_type": "error",
          "ename": "ZeroDivisionError",
          "evalue": "ignored",
          "traceback": [
            "\u001b[0;31m---------------------------------------------------------------------------\u001b[0m",
            "\u001b[0;31mZeroDivisionError\u001b[0m                         Traceback (most recent call last)",
            "\u001b[0;32m<ipython-input-3-2aaf204c0b57>\u001b[0m in \u001b[0;36m<cell line: 6>\u001b[0;34m()\u001b[0m\n\u001b[1;32m      6\u001b[0m \u001b[0;32mtry\u001b[0m\u001b[0;34m:\u001b[0m\u001b[0;34m\u001b[0m\u001b[0;34m\u001b[0m\u001b[0m\n\u001b[1;32m      7\u001b[0m     \u001b[0mnum\u001b[0m \u001b[0;34m=\u001b[0m \u001b[0;36m0\u001b[0m\u001b[0;34m\u001b[0m\u001b[0;34m\u001b[0m\u001b[0m\n\u001b[0;32m----> 8\u001b[0;31m     \u001b[0mresult\u001b[0m \u001b[0;34m=\u001b[0m \u001b[0;36m10\u001b[0m \u001b[0;34m/\u001b[0m \u001b[0mnum\u001b[0m \u001b[0;31m# here it will throw ZeroDivisionError  but ,we have exception for value error only\u001b[0m\u001b[0;34m\u001b[0m\u001b[0;34m\u001b[0m\u001b[0m\n\u001b[0m\u001b[1;32m      9\u001b[0m     \u001b[0mprint\u001b[0m\u001b[0;34m(\u001b[0m\u001b[0;34m\"Result:\"\u001b[0m\u001b[0;34m,\u001b[0m \u001b[0mresult\u001b[0m\u001b[0;34m)\u001b[0m\u001b[0;34m\u001b[0m\u001b[0;34m\u001b[0m\u001b[0m\n\u001b[1;32m     10\u001b[0m \u001b[0;32mexcept\u001b[0m \u001b[0mValueError\u001b[0m\u001b[0;34m:\u001b[0m\u001b[0;34m\u001b[0m\u001b[0;34m\u001b[0m\u001b[0m\n",
            "\u001b[0;31mZeroDivisionError\u001b[0m: division by zero"
          ]
        }
      ]
    },
    {
      "cell_type": "markdown",
      "source": [
        "4.What is the difference between using a bare except block and specifying a specific\n",
        "exception type?"
      ],
      "metadata": {
        "id": "Z6U-p_yYVdVE"
      }
    },
    {
      "cell_type": "code",
      "source": [
        "'''\n",
        "the bare except block will catch and handle any exception that occurs within the try block. whereas the\n",
        "specific exception will handle only the intended errors\n",
        "'''\n",
        "#bare exception-example\n",
        "try:\n",
        "  c=a+10\n",
        "except:# handles any errors\n",
        "  print(\"error in adding\")\n",
        "\n",
        "#specified exceptions\n",
        "try:\n",
        "  lst=[1,2,3]\n",
        "  print(lst[7])\n",
        "except IndexError: # handles only the index errors\n",
        "  print(\"list index out of range\")\n"
      ],
      "metadata": {
        "colab": {
          "base_uri": "https://localhost:8080/"
        },
        "id": "4_S2ShVEVb-B",
        "outputId": "2103b669-76c2-405a-f76c-39dd82591f76"
      },
      "execution_count": 4,
      "outputs": [
        {
          "output_type": "stream",
          "name": "stdout",
          "text": [
            "error in adding\n",
            "list index out of range\n"
          ]
        }
      ]
    },
    {
      "cell_type": "markdown",
      "source": [
        "5.Can you have nested try-except blocks in Python? If yes, then give an example."
      ],
      "metadata": {
        "id": "fLed21z6WfRR"
      }
    },
    {
      "cell_type": "code",
      "source": [
        "# yes python may have nested try except\n",
        "\n",
        "def divide_numbers(a, b):\n",
        "    try:# inner try except block\n",
        "        result = a / b\n",
        "        print(\"Division result:\", result)\n",
        "    except ZeroDivisionError:\n",
        "        print(\"Error: Cannot divide by zero.\")\n",
        "    except TypeError:\n",
        "        print(\"Error: Invalid data types for division.\")\n",
        "    except Exception as e:\n",
        "        print(\"An error occurred during division:\", e)\n",
        "\n",
        "try:# outer try-except block\n",
        "  divide_numbers(10, 4)\n",
        "except ValueError:\n",
        "    print(\"Error: Invalid input. Please enter valid numbers.\")"
      ],
      "metadata": {
        "colab": {
          "base_uri": "https://localhost:8080/"
        },
        "id": "Nmcoz7XkWeQY",
        "outputId": "95ebc04b-d329-4c18-f637-380ed82bbf27"
      },
      "execution_count": 7,
      "outputs": [
        {
          "output_type": "stream",
          "name": "stdout",
          "text": [
            "Division result: 2.5\n"
          ]
        }
      ]
    },
    {
      "cell_type": "markdown",
      "source": [
        "6.Can we use multiple exception blocks, if yes then give an example."
      ],
      "metadata": {
        "id": "JJg0kY_LXcrt"
      }
    },
    {
      "cell_type": "code",
      "source": [
        "#yes we can use multiple exception blocks\n",
        "try:\n",
        "  dict1={\"name\":\"dog\",\"type\":\"domestic\"}\n",
        "  print(dict1['species'])\n",
        "except NameError:\n",
        "  print(\"The variable is not defined\")\n",
        "except KeyError:\n",
        "  print(\"Key is not in dict\")"
      ],
      "metadata": {
        "colab": {
          "base_uri": "https://localhost:8080/"
        },
        "id": "saGFb99YXRBn",
        "outputId": "d01068b9-c4a4-4820-e82c-05b8b85ad6f7"
      },
      "execution_count": 9,
      "outputs": [
        {
          "output_type": "stream",
          "name": "stdout",
          "text": [
            "Key is not in dict\n"
          ]
        }
      ]
    },
    {
      "cell_type": "markdown",
      "source": [
        "7. Write the reason due to which following errors are raised:\n",
        "a. EOFError\n",
        "b. FloatingPointError\n",
        "c. IndexError\n",
        "d. MemoryError\n",
        "e. OverflowError\n",
        "f. TabError\n",
        "g. ValueError"
      ],
      "metadata": {
        "id": "eX_VsaUQYRK7"
      }
    },
    {
      "cell_type": "code",
      "source": [
        "'''\n",
        "a.EOFError-\n",
        "This error is raised when the input() function is used to read input from the user,\n",
        "and the user presses the end-of-file (EOF) key combination (Ctrl + D on Unix/Linux, Ctrl + Z on Windows) instead of providing the expected input.\n",
        "\n",
        "\n",
        "b.FloatingPointError:\n",
        " This error is raised when a floating-point operation fails to produce a valid result.\n",
        "\n",
        "c. IndexError: This error is raised when trying to access an index of a sequence.\n",
        "\n",
        "d. MemoryError: This error is raised when an operation or program runs out of available memory and cannot allocate enough memory to continue its execution.\n",
        "\n",
        "e. OverflowError: This error is raised when an arithmetic operation exceeds the limits of the data type being used.\n",
        "\n",
        "f. TabError: This error is raised when there is an issue with the indentation of code using tabs and spaces inconsistently.\n",
        "\n",
        "g. ValueError: This error is raised when an operation or function receives an argument with the right data type but an inappropriate value\n",
        "\n",
        "\n",
        "'''\n",
        "\n"
      ],
      "metadata": {
        "id": "4CuOfoc6Xuzp"
      },
      "execution_count": null,
      "outputs": []
    },
    {
      "cell_type": "markdown",
      "source": [
        "8. Write code for the following given scenario and add try-exception block to it.\n",
        "a. Program to divide two numbers\n",
        "b. Program to convert a string to an integer\n",
        "c. Program to access an element in a list\n",
        "d. Program to handle a specific exception\n",
        "e. Program to handle any exception"
      ],
      "metadata": {
        "id": "3kXEUEjbd2x4"
      }
    },
    {
      "cell_type": "code",
      "source": [
        "#a.Program to divide two numbers\n",
        "def divide_numbers(a, b):\n",
        "    try:# inner try except block\n",
        "        result = a / b\n",
        "        print(\"Division result:\", result)\n",
        "    except ZeroDivisionError:\n",
        "        print(\"Error: Cannot divide by zero.\")\n",
        "    except TypeError:\n",
        "        print(\"Error: Invalid data types for division.\")\n",
        "    except Exception as e:\n",
        "        print(\"An error occurred during division:\", e)\n",
        "\n",
        "divide_numbers(10, 4)\n",
        "\n",
        "#b.Program to convert a string to an integer\n",
        "\n",
        "try:\n",
        "  a=\"10.5\"\n",
        "  int_val=int(a)\n",
        "except ValueError as e:\n",
        "  print(\"valueError\",e)\n",
        "\n",
        "#c.Program to access an element in a list\n",
        "try:\n",
        "  lst=[1,2,3]\n",
        "  print(lst[7])\n",
        "except IndexError: # handles only the index errors\n",
        "  print(\"list index out of range\")\n",
        "\n",
        "#d.Program to handle a specific exception\n",
        "\n",
        "try:\n",
        "  c=10+\"10\"\n",
        "except TypeError as e:\n",
        "  print(\"taberror\",e)\n",
        "\n",
        "#e.Program to handle any exception\n",
        "try:\n",
        "  c=10+a\n",
        "except Exception as e:\n",
        "  print(\"variable not declared\",e)\n",
        "\n",
        "\n"
      ],
      "metadata": {
        "colab": {
          "base_uri": "https://localhost:8080/"
        },
        "id": "JAnvj5sGd1TM",
        "outputId": "029dc2ad-b3dc-4b40-c3cc-6150510e3c88"
      },
      "execution_count": 16,
      "outputs": [
        {
          "output_type": "stream",
          "name": "stdout",
          "text": [
            "Division result: 2.5\n",
            "valueError invalid literal for int() with base 10: '10.5'\n",
            "list index out of range\n",
            "taberror unsupported operand type(s) for +: 'int' and 'str'\n",
            "variable not declared unsupported operand type(s) for +: 'int' and 'str'\n"
          ]
        }
      ]
    },
    {
      "cell_type": "code",
      "source": [],
      "metadata": {
        "id": "c2yK5OQKegQK"
      },
      "execution_count": null,
      "outputs": []
    }
  ]
}
